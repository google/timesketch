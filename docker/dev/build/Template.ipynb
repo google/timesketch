{
 "cells": [
  {
   "cell_type": "markdown",
   "id": "54305e5b-885b-4bf2-ace5-f597d9ab10a4",
   "metadata": {},
   "source": [
    "# Timesketch Notebook\n",
    "This is a base notebook for connecting to Timesketch. \n",
    "\n",
    "**Remember to rename the notebook**.\n",
    "\n",
    "## Select a Sketch\n",
    "Now it is time to select a sketch to use, first execute the cell and then change the ID of the sketch to the one you want, and press the button."
   ]
  },
  {
   "cell_type": "code",
   "execution_count": null,
   "id": "bcfbdfb6-e988-416a-bbe2-251423c4d982",
   "metadata": {},
   "outputs": [],
   "source": [
    "generate_connect_button()"
   ]
  },
  {
   "cell_type": "markdown",
   "id": "f07401b5-a140-4ffa-9359-7f11c9820929",
   "metadata": {},
   "source": [
    "# Documentation\n",
    "\n",
    "[https://timesketch.org/developers/api-client/](https://timesketch.org/developers/api-client/)\n"
   ]
  }
 ],
 "metadata": {
  "kernelspec": {
   "display_name": "Python 3 (ipykernel)",
   "language": "python",
   "name": "python3"
  },
  "language_info": {
   "codemirror_mode": {
    "name": "ipython",
    "version": 3
   },
   "file_extension": ".py",
   "mimetype": "text/x-python",
   "name": "python",
   "nbconvert_exporter": "python",
   "pygments_lexer": "ipython3",
   "version": "3.11.9"
  }
 },
 "nbformat": 4,
 "nbformat_minor": 5
}
