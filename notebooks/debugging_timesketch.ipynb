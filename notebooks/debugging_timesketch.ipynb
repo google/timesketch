{
 "cells": [
  {
   "cell_type": "markdown",
   "metadata": {},
   "source": [
    "# DEBUGGING TIMESKETCH API WITH PYTHON CLI"
   ]
  },
  {
   "cell_type": "markdown",
   "metadata": {},
   "source": [
    "This notebook is intended to by useful when debugging Timesketch: it can create/delete/visualize sketches and timelines, retrieve analyzers' results, run queries on a sketch and many others. Feel free to use and modify the section that you find more useful."
   ]
  },
  {
   "cell_type": "code",
   "execution_count": null,
   "metadata": {},
   "outputs": [],
   "source": [
    "!pip install -q timesketch_api_client"
   ]
  },
  {
   "cell_type": "code",
   "execution_count": null,
   "metadata": {},
   "outputs": [],
   "source": [
    "import json\n",
    "\n",
    "from timesketch_api_client import config\n",
    "from timesketch_api_client import sketch\n",
    "from timesketch_api_client import timeline\n",
    "from timesketch_api_client import analyzer\n",
    "from timesketch_api_client import search\n",
    "\n",
    "from timesketch_import_client import helper\n",
    "from timesketch_import_client import importer"
   ]
  },
  {
   "cell_type": "markdown",
   "metadata": {},
   "source": [
    "## Initialization section\n",
    "Define here the name of the sketch"
   ]
  },
  {
   "cell_type": "code",
   "execution_count": null,
   "metadata": {},
   "outputs": [],
   "source": [
    "sketch_name = \"0p3nS0C\""
   ]
  },
  {
   "cell_type": "code",
   "execution_count": null,
   "metadata": {},
   "outputs": [],
   "source": [
    "ts_client = config.get_client()"
   ]
  },
  {
   "cell_type": "markdown",
   "metadata": {},
   "source": [
    "## GET section\n",
    "This section has the command to retrieve the list of sketches, timelines, analyzers..."
   ]
  },
  {
   "cell_type": "markdown",
   "metadata": {},
   "source": [
    "### GET list of sketches"
   ]
  },
  {
   "cell_type": "code",
   "execution_count": null,
   "metadata": {},
   "outputs": [],
   "source": [
    "sketches = [(x.id, x.name) for x in ts_client.list_sketches()]\n",
    "for sketch in sketches:\n",
    "    print(f\"Sketch name: {sketch[1]} ({sketch[0]})\")"
   ]
  },
  {
   "cell_type": "markdown",
   "metadata": {},
   "source": [
    "### GET list of sketch - timeline - datasource"
   ]
  },
  {
   "cell_type": "code",
   "execution_count": null,
   "metadata": {},
   "outputs": [],
   "source": [
    "sketches = [(x.id, x.name) for x in ts_client.list_sketches()]\n",
    "for sketch_info in sketches:\n",
    "    try:\n",
    "        sketch = ts_client.get_sketch(sketch_info[0])\n",
    "        print(f\"[S] {sketch.name} ({sketch.id})\")\n",
    "        for timeline in sketch.list_timelines():\n",
    "            print(f\"   - [T] {timeline.name} ({timeline.id})\")\n",
    "            for datasource in timeline.data_sources:\n",
    "                print(f\"      - [D] {datasource['context']} ({datasource['status'][0]['status']})\")\n",
    "    except Exception as e:\n",
    "        print(f\"[S]{sketch_info[1]} ({sketch_info[0]}) skipped\")"
   ]
  },
  {
   "cell_type": "markdown",
   "metadata": {},
   "source": [
    "### GET detailed events of a sketch"
   ]
  },
  {
   "cell_type": "code",
   "execution_count": null,
   "metadata": {},
   "outputs": [],
   "source": [
    "sketch_ID = 1\n",
    "print(f\"Using sketch ID {sketch_ID}\")\n",
    "sketch = ts_client.get_sketch(sketch_ID)\n",
    "print(json.dumps(sketch.data, indent=4))"
   ]
  },
  {
   "cell_type": "markdown",
   "metadata": {},
   "source": [
    "### GET detailed events of a timeline"
   ]
  },
  {
   "cell_type": "code",
   "execution_count": null,
   "metadata": {},
   "outputs": [],
   "source": [
    "import json\n",
    "timeline_ID = 12\n",
    "\n",
    "# first need to find the sketch of that timeline\n",
    "sketches = [(x.id, x.name) for x in ts_client.list_sketches()]\n",
    "for sketch_info in sketches:\n",
    "    try:\n",
    "        sketch = ts_client.get_sketch(sketch_info[0])\n",
    "        timelines_ID = [x.id for x in sketch.list_timelines()]\n",
    "        if timeline_ID in timelines_ID:\n",
    "            print(f\"Found timeline ID {timeline_ID} in sketch {sketch_info[1]}\")\n",
    "            print(f\"Print information of timeline ID {timeline_ID}...\")\n",
    "            timeline_info = sketch.get_timeline(timeline_ID).data\n",
    "            print(json.dumps(timeline_info, indent=4))\n",
    "            break\n",
    "    except Exception as e:\n",
    "        print(f\"Cannot retrieve timeline ID {timeline_id}\")"
   ]
  },
  {
   "cell_type": "markdown",
   "metadata": {},
   "source": [
    "### GET events by running a QUERY"
   ]
  },
  {
   "cell_type": "code",
   "execution_count": 50,
   "metadata": {},
   "outputs": [
    {
     "name": "stdout",
     "output_type": "stream",
     "text": [
      "Query: *\n"
     ]
    },
    {
     "data": {
      "text/html": [
       "<div>\n",
       "<style scoped>\n",
       "    .dataframe tbody tr th:only-of-type {\n",
       "        vertical-align: middle;\n",
       "    }\n",
       "\n",
       "    .dataframe tbody tr th {\n",
       "        vertical-align: top;\n",
       "    }\n",
       "\n",
       "    .dataframe thead th {\n",
       "        text-align: right;\n",
       "    }\n",
       "</style>\n",
       "<table border=\"1\" class=\"dataframe\">\n",
       "  <thead>\n",
       "    <tr style=\"text-align: right;\">\n",
       "      <th></th>\n",
       "      <th>__ts_timeline_id</th>\n",
       "      <th>comment</th>\n",
       "      <th>datetime</th>\n",
       "      <th>label</th>\n",
       "      <th>message</th>\n",
       "      <th>tag</th>\n",
       "      <th>timestamp</th>\n",
       "      <th>timestamp_desc</th>\n",
       "      <th>_id</th>\n",
       "      <th>_type</th>\n",
       "      <th>_index</th>\n",
       "      <th>_source</th>\n",
       "    </tr>\n",
       "  </thead>\n",
       "  <tbody>\n",
       "    <tr>\n",
       "      <th>0</th>\n",
       "      <td>9</td>\n",
       "      <td>[]</td>\n",
       "      <td>1970-01-01 00:00:00+00:00</td>\n",
       "      <td>[]</td>\n",
       "      <td>Windows 7 Professional 6.1 7601 Owner: Microso...</td>\n",
       "      <td>[]</td>\n",
       "      <td>0</td>\n",
       "      <td>Installation Time</td>\n",
       "      <td>2_uFfoMBMidofikwT4ZL</td>\n",
       "      <td>_doc</td>\n",
       "      <td>a30c0e6c47124f20993be056de59dde2</td>\n",
       "      <td>None</td>\n",
       "    </tr>\n",
       "    <tr>\n",
       "      <th>1</th>\n",
       "      <td>9</td>\n",
       "      <td>[]</td>\n",
       "      <td>1970-01-01 00:00:00+00:00</td>\n",
       "      <td>[]</td>\n",
       "      <td>Windows 7 Professional 6.1 7601 Owner: Microso...</td>\n",
       "      <td>[]</td>\n",
       "      <td>0</td>\n",
       "      <td>Installation Time</td>\n",
       "      <td>3PuFfoMBMidofikwT4ZM</td>\n",
       "      <td>_doc</td>\n",
       "      <td>a30c0e6c47124f20993be056de59dde2</td>\n",
       "      <td>None</td>\n",
       "    </tr>\n",
       "    <tr>\n",
       "      <th>2</th>\n",
       "      <td>9</td>\n",
       "      <td>[]</td>\n",
       "      <td>1970-01-01 00:00:00+00:00</td>\n",
       "      <td>[]</td>\n",
       "      <td>Windows 7 Professional 6.1 7601 Owner: Microso...</td>\n",
       "      <td>[]</td>\n",
       "      <td>0</td>\n",
       "      <td>Installation Time</td>\n",
       "      <td>6w9Rf4MBMidofikwbZjG</td>\n",
       "      <td>_doc</td>\n",
       "      <td>a30c0e6c47124f20993be056de59dde2</td>\n",
       "      <td>None</td>\n",
       "    </tr>\n",
       "    <tr>\n",
       "      <th>3</th>\n",
       "      <td>9</td>\n",
       "      <td>[]</td>\n",
       "      <td>1970-01-01 00:00:00+00:00</td>\n",
       "      <td>[]</td>\n",
       "      <td>Windows 7 Professional 6.1 7601 Owner: Microso...</td>\n",
       "      <td>[]</td>\n",
       "      <td>0</td>\n",
       "      <td>Installation Time</td>\n",
       "      <td>7A9Rf4MBMidofikwbZjG</td>\n",
       "      <td>_doc</td>\n",
       "      <td>a30c0e6c47124f20993be056de59dde2</td>\n",
       "      <td>None</td>\n",
       "    </tr>\n",
       "    <tr>\n",
       "      <th>4</th>\n",
       "      <td>20</td>\n",
       "      <td>[]</td>\n",
       "      <td>1970-01-01 00:00:00+00:00</td>\n",
       "      <td>[]</td>\n",
       "      <td>Windows 7 Professional 6.1 7601 Owner: Microso...</td>\n",
       "      <td>[]</td>\n",
       "      <td>0</td>\n",
       "      <td>Installation Time</td>\n",
       "      <td>pRlhf4MBMidofikwW5_U</td>\n",
       "      <td>_doc</td>\n",
       "      <td>a30c0e6c47124f20993be056de59dde2</td>\n",
       "      <td>None</td>\n",
       "    </tr>\n",
       "    <tr>\n",
       "      <th>...</th>\n",
       "      <td>...</td>\n",
       "      <td>...</td>\n",
       "      <td>...</td>\n",
       "      <td>...</td>\n",
       "      <td>...</td>\n",
       "      <td>...</td>\n",
       "      <td>...</td>\n",
       "      <td>...</td>\n",
       "      <td>...</td>\n",
       "      <td>...</td>\n",
       "      <td>...</td>\n",
       "      <td>...</td>\n",
       "    </tr>\n",
       "    <tr>\n",
       "      <th>9995</th>\n",
       "      <td>9</td>\n",
       "      <td>[]</td>\n",
       "      <td>2009-07-14 04:49:00.148386+00:00</td>\n",
       "      <td>[]</td>\n",
       "      <td>[HKEY_LOCAL_MACHINE\\Software\\Microsoft\\Interne...</td>\n",
       "      <td>[]</td>\n",
       "      <td>1247546940148386</td>\n",
       "      <td>Content Modification Time</td>\n",
       "      <td>-g9Rf4MBMidofikwdaTv</td>\n",
       "      <td>_doc</td>\n",
       "      <td>a30c0e6c47124f20993be056de59dde2</td>\n",
       "      <td>None</td>\n",
       "    </tr>\n",
       "    <tr>\n",
       "      <th>9996</th>\n",
       "      <td>9</td>\n",
       "      <td>[]</td>\n",
       "      <td>2009-07-14 04:49:00.148386+00:00</td>\n",
       "      <td>[]</td>\n",
       "      <td>[HKEY_LOCAL_MACHINE\\Software\\Microsoft\\Interne...</td>\n",
       "      <td>[]</td>\n",
       "      <td>1247546940148386</td>\n",
       "      <td>Content Modification Time</td>\n",
       "      <td>-w9Rf4MBMidofikwdaTv</td>\n",
       "      <td>_doc</td>\n",
       "      <td>a30c0e6c47124f20993be056de59dde2</td>\n",
       "      <td>None</td>\n",
       "    </tr>\n",
       "    <tr>\n",
       "      <th>9997</th>\n",
       "      <td>9</td>\n",
       "      <td>[]</td>\n",
       "      <td>2009-07-14 04:49:00.148386+00:00</td>\n",
       "      <td>[]</td>\n",
       "      <td>[HKEY_LOCAL_MACHINE\\Software\\Microsoft\\Interne...</td>\n",
       "      <td>[]</td>\n",
       "      <td>1247546940148386</td>\n",
       "      <td>Content Modification Time</td>\n",
       "      <td>_A9Rf4MBMidofikwdaTv</td>\n",
       "      <td>_doc</td>\n",
       "      <td>a30c0e6c47124f20993be056de59dde2</td>\n",
       "      <td>None</td>\n",
       "    </tr>\n",
       "    <tr>\n",
       "      <th>9998</th>\n",
       "      <td>9</td>\n",
       "      <td>[]</td>\n",
       "      <td>2009-07-14 04:49:00.148386+00:00</td>\n",
       "      <td>[]</td>\n",
       "      <td>[HKEY_LOCAL_MACHINE\\Software\\Microsoft\\Interne...</td>\n",
       "      <td>[]</td>\n",
       "      <td>1247546940148386</td>\n",
       "      <td>Content Modification Time</td>\n",
       "      <td>_Q9Rf4MBMidofikwdaTv</td>\n",
       "      <td>_doc</td>\n",
       "      <td>a30c0e6c47124f20993be056de59dde2</td>\n",
       "      <td>None</td>\n",
       "    </tr>\n",
       "    <tr>\n",
       "      <th>9999</th>\n",
       "      <td>9</td>\n",
       "      <td>[]</td>\n",
       "      <td>2009-07-14 04:49:00.148386+00:00</td>\n",
       "      <td>[]</td>\n",
       "      <td>[HKEY_LOCAL_MACHINE\\Software\\Microsoft\\Interne...</td>\n",
       "      <td>[]</td>\n",
       "      <td>1247546940148386</td>\n",
       "      <td>Content Modification Time</td>\n",
       "      <td>_g9Rf4MBMidofikwdaTv</td>\n",
       "      <td>_doc</td>\n",
       "      <td>a30c0e6c47124f20993be056de59dde2</td>\n",
       "      <td>None</td>\n",
       "    </tr>\n",
       "  </tbody>\n",
       "</table>\n",
       "<p>10000 rows × 12 columns</p>\n",
       "</div>"
      ],
      "text/plain": [
       "      __ts_timeline_id comment                         datetime label  \\\n",
       "0                    9      []        1970-01-01 00:00:00+00:00    []   \n",
       "1                    9      []        1970-01-01 00:00:00+00:00    []   \n",
       "2                    9      []        1970-01-01 00:00:00+00:00    []   \n",
       "3                    9      []        1970-01-01 00:00:00+00:00    []   \n",
       "4                   20      []        1970-01-01 00:00:00+00:00    []   \n",
       "...                ...     ...                              ...   ...   \n",
       "9995                 9      [] 2009-07-14 04:49:00.148386+00:00    []   \n",
       "9996                 9      [] 2009-07-14 04:49:00.148386+00:00    []   \n",
       "9997                 9      [] 2009-07-14 04:49:00.148386+00:00    []   \n",
       "9998                 9      [] 2009-07-14 04:49:00.148386+00:00    []   \n",
       "9999                 9      [] 2009-07-14 04:49:00.148386+00:00    []   \n",
       "\n",
       "                                                message tag         timestamp  \\\n",
       "0     Windows 7 Professional 6.1 7601 Owner: Microso...  []                 0   \n",
       "1     Windows 7 Professional 6.1 7601 Owner: Microso...  []                 0   \n",
       "2     Windows 7 Professional 6.1 7601 Owner: Microso...  []                 0   \n",
       "3     Windows 7 Professional 6.1 7601 Owner: Microso...  []                 0   \n",
       "4     Windows 7 Professional 6.1 7601 Owner: Microso...  []                 0   \n",
       "...                                                 ...  ..               ...   \n",
       "9995  [HKEY_LOCAL_MACHINE\\Software\\Microsoft\\Interne...  []  1247546940148386   \n",
       "9996  [HKEY_LOCAL_MACHINE\\Software\\Microsoft\\Interne...  []  1247546940148386   \n",
       "9997  [HKEY_LOCAL_MACHINE\\Software\\Microsoft\\Interne...  []  1247546940148386   \n",
       "9998  [HKEY_LOCAL_MACHINE\\Software\\Microsoft\\Interne...  []  1247546940148386   \n",
       "9999  [HKEY_LOCAL_MACHINE\\Software\\Microsoft\\Interne...  []  1247546940148386   \n",
       "\n",
       "                 timestamp_desc                   _id _type  \\\n",
       "0             Installation Time  2_uFfoMBMidofikwT4ZL  _doc   \n",
       "1             Installation Time  3PuFfoMBMidofikwT4ZM  _doc   \n",
       "2             Installation Time  6w9Rf4MBMidofikwbZjG  _doc   \n",
       "3             Installation Time  7A9Rf4MBMidofikwbZjG  _doc   \n",
       "4             Installation Time  pRlhf4MBMidofikwW5_U  _doc   \n",
       "...                         ...                   ...   ...   \n",
       "9995  Content Modification Time  -g9Rf4MBMidofikwdaTv  _doc   \n",
       "9996  Content Modification Time  -w9Rf4MBMidofikwdaTv  _doc   \n",
       "9997  Content Modification Time  _A9Rf4MBMidofikwdaTv  _doc   \n",
       "9998  Content Modification Time  _Q9Rf4MBMidofikwdaTv  _doc   \n",
       "9999  Content Modification Time  _g9Rf4MBMidofikwdaTv  _doc   \n",
       "\n",
       "                                _index _source  \n",
       "0     a30c0e6c47124f20993be056de59dde2    None  \n",
       "1     a30c0e6c47124f20993be056de59dde2    None  \n",
       "2     a30c0e6c47124f20993be056de59dde2    None  \n",
       "3     a30c0e6c47124f20993be056de59dde2    None  \n",
       "4     a30c0e6c47124f20993be056de59dde2    None  \n",
       "...                                ...     ...  \n",
       "9995  a30c0e6c47124f20993be056de59dde2    None  \n",
       "9996  a30c0e6c47124f20993be056de59dde2    None  \n",
       "9997  a30c0e6c47124f20993be056de59dde2    None  \n",
       "9998  a30c0e6c47124f20993be056de59dde2    None  \n",
       "9999  a30c0e6c47124f20993be056de59dde2    None  \n",
       "\n",
       "[10000 rows x 12 columns]"
      ]
     },
     "execution_count": 50,
     "metadata": {},
     "output_type": "execute_result"
    }
   ],
   "source": [
    "sketch_ID = 1\n",
    "screenshot_events = None\n",
    "\n",
    "try:\n",
    "    sketch = ts_client.get_sketch(sketch_ID)\n",
    "    query = ('*')\n",
    "\n",
    "    search_obj = search.Search(sketch)\n",
    "\n",
    "    search_obj.query_string = query\n",
    "    screenshot_events = search_obj.table\n",
    "except Exception as e:\n",
    "    print(f\"Cannot find sketch ID {sketch_ID}\")\n",
    "\n",
    "print(f\"Query: {query}\")\n",
    "screenshot_events"
   ]
  },
  {
   "cell_type": "markdown",
   "metadata": {},
   "source": [
    "## CREATE section\n",
    "In this section the are commands to create new sketch, a single timeline, a single timeline with multiple datasource and multiple timelines."
   ]
  },
  {
   "cell_type": "markdown",
   "metadata": {},
   "source": [
    "### Create a new sketch (if the name is unique)"
   ]
  },
  {
   "cell_type": "code",
   "execution_count": null,
   "metadata": {},
   "outputs": [],
   "source": [
    "sketches = [(x.id, x.name) for x in ts_client.list_sketches() if x.name == sketch_name]\n",
    "sketch = None\n",
    "if sketches:\n",
    "    print(\"Sketch already exists\")\n",
    "    sketch = ts_client.get_sketch(sketches[0][0])\n",
    "else:\n",
    "    print(\"Create new sketch\")\n",
    "    sketch = ts_client.create_sketch(name=sketch_name)\n",
    "\n",
    "sketch_ID = sketch.id\n",
    "print(f\"Sketch information: {sketch.name} ({sketch_ID})\")"
   ]
  },
  {
   "cell_type": "markdown",
   "metadata": {},
   "source": [
    "### Create new timeline given a sketch"
   ]
  },
  {
   "cell_type": "code",
   "execution_count": null,
   "metadata": {},
   "outputs": [],
   "source": [
    "filename = \"/tmp/sample_chrome_logs.plaso\"\n",
    "timeline_name = \"_\".join(filename.split(\"/\")[-1].split(\".\")[:-1])\n",
    "\n",
    "sketches = [(x.id, x.name) for x in ts_client.list_sketches() if x.name == sketch_name]\n",
    "sketch = None\n",
    "if sketches:\n",
    "    print(f\"Using sketch {sketch_name}\")\n",
    "    sketch = ts_client.get_sketch(sketches[0][0])\n",
    "    import_helper = helper.ImportHelper() \n",
    "    with importer.ImportStreamer() as streamer:\n",
    "        streamer.set_sketch(sketch)\n",
    "        streamer.set_config_helper(import_helper)\n",
    "        streamer.set_timeline_name(timeline_name)\n",
    "        streamer.add_file(filename)\n",
    "        print(f\"Timeline {timeline_name} inserted\")\n",
    "else:\n",
    "    print(\"No sketch with that name\")"
   ]
  },
  {
   "cell_type": "markdown",
   "metadata": {},
   "source": [
    "### Create timelines given a list of files"
   ]
  },
  {
   "cell_type": "code",
   "execution_count": null,
   "metadata": {},
   "outputs": [],
   "source": [
    "# feel free to modify these lines as they are only used to fill the array list_files\n",
    "import os\n",
    "dir_path = r'/tmp/list_files'\n",
    "\n",
    "# list to store files\n",
    "list_files = []\n",
    "\n",
    "# Iterate directory\n",
    "for path in os.listdir(dir_path):\n",
    "    # check if current path is a file\n",
    "    if os.path.isfile(os.path.join(dir_path, path)):\n",
    "        list_files.append(dir_path + '/' + path)\n",
    "print(f\"List of files: {', '.join(list_files)}\")"
   ]
  },
  {
   "cell_type": "code",
   "execution_count": null,
   "metadata": {},
   "outputs": [],
   "source": [
    "sketches = [(x.id, x.name) for x in ts_client.list_sketches() if x.name == sketch_name]\n",
    "sketch = None\n",
    "if sketches:\n",
    "    print(f\"Using sketch {sketch_name}\")\n",
    "    sketch = ts_client.get_sketch(sketches[0][0])\n",
    "    import_helper = helper.ImportHelper()     \n",
    "    for filename in list_files:\n",
    "        timeline_name = \"_\".join(filename.split(\"/\")[-1].split(\".\")[:-1])\n",
    "        try:\n",
    "            with importer.ImportStreamer() as streamer:\n",
    "                streamer.set_sketch(sketch)\n",
    "                streamer.set_config_helper(import_helper)\n",
    "                streamer.set_timeline_name(timeline_name)\n",
    "                streamer.add_file(filename)\n",
    "                print(f\"Timeline {timeline_name} inserted\")\n",
    "        except Exception as e:\n",
    "            print(f\"{filename} skipped\")\n",
    "else:\n",
    "    print(f\"no sketch found with name {sketch_name}\")"
   ]
  },
  {
   "cell_type": "markdown",
   "metadata": {},
   "source": [
    "### Create a manual event"
   ]
  },
  {
   "cell_type": "code",
   "execution_count": null,
   "metadata": {},
   "outputs": [],
   "source": [
    "datetime = \"2020-08-06T12:48:06.994188Z\"\n",
    "message = \"only a test to insert a manual event v2\"\n",
    "timestamp_desc = \"creation time\"\n",
    "attributes = {\"a\": \"alpha\", \"o\": \"omega\", \"g\": \"gamma\"}\n",
    "tags = [\"this\", \"field\", \"is\", \"optional\",]\n",
    "sketches = [(x.id, x.name) for x in ts_client.list_sketches() if x.name == sketch_name]\n",
    "sketch = None\n",
    "if sketches:\n",
    "    print(f\"Using sketch {sketch_name}\")\n",
    "    sketch = ts_client.get_sketch(sketches[0][0])\n",
    "    sketch.add_event(message, datetime, timestamp_desc, attributes, tags)\n",
    "    print(\"Manual event added\")\n",
    "else:\n",
    "    print(f\"no sketch found with name {sketch_name}\")    "
   ]
  },
  {
   "cell_type": "markdown",
   "metadata": {},
   "source": [
    "## DELETE section"
   ]
  },
  {
   "cell_type": "markdown",
   "metadata": {},
   "source": [
    "### Delete one or more timelines in the sketch"
   ]
  },
  {
   "cell_type": "code",
   "execution_count": null,
   "metadata": {},
   "outputs": [],
   "source": [
    "timeline_names = [\"ac01-chrome-history\"]\n",
    "sketches = [(x.id, x.name) for x in ts_client.list_sketches() if x.name == sketch_name]\n",
    "sketch = None\n",
    "if sketches:\n",
    "    print(f\"Using sketch {sketch_name}\")\n",
    "    sketch = ts_client.get_sketch(sketches[0][0])\n",
    "    for timeline_name in timeline_names:\n",
    "        timeline = sketch.get_timeline(timeline_name=timeline_name)\n",
    "        if timeline:\n",
    "            timeline.delete()\n",
    "            print(f\"Timeline {timeline_name} deleted\")\n",
    "        else:\n",
    "            print(f\"Timeline {timeline_name} not found\")\n",
    "else:\n",
    "    print(f\"no sketch found with name {sketch_name}\")"
   ]
  },
  {
   "cell_type": "markdown",
   "metadata": {},
   "source": [
    "### Delete all the timelines in the sketch"
   ]
  },
  {
   "cell_type": "code",
   "execution_count": null,
   "metadata": {},
   "outputs": [],
   "source": [
    "sketches = [(x.id, x.name) for x in ts_client.list_sketches() if x.name == sketch_name]\n",
    "sketch = None\n",
    "if sketches:\n",
    "    print(f\"Using sketch {sketch_name}\")\n",
    "    sketch = ts_client.get_sketch(sketches[0][0])\n",
    "    timelines = sketch.list_timelines()\n",
    "    for timeline in timelines:\n",
    "        try:\n",
    "            timeline_name = timeline.name\n",
    "            timeline.delete()\n",
    "            print(f\"Timeline {timeline_name} deleted\")\n",
    "        except Exception as e:\n",
    "            print(f\"ERROR: Timeline {timeline_name} skipped\")\n",
    "else:\n",
    "    print(f\"no sketch found with name {sketch_name}\")"
   ]
  },
  {
   "cell_type": "markdown",
   "metadata": {},
   "source": [
    "## ANALYZER Section\n",
    "In this section the user can list and run the analyzers available on Timesketch"
   ]
  },
  {
   "cell_type": "markdown",
   "metadata": {},
   "source": [
    "### GET list of available analyzers"
   ]
  },
  {
   "cell_type": "code",
   "execution_count": null,
   "metadata": {},
   "outputs": [],
   "source": [
    "sketch_ID = 1\n",
    "print(f\"Listing analyzers available for sketch ID {sketch_ID}\")\n",
    "for list_analyzers in ts_client.get_sketch(sketch_ID).list_available_analyzers():\n",
    "    print(json.dumps(list_analyzers, indent=4))"
   ]
  },
  {
   "cell_type": "markdown",
   "metadata": {},
   "source": [
    "### Retrieve the result of an analyzer\n",
    "Retrieve the results of an analyzer given a timeline ID"
   ]
  },
  {
   "cell_type": "code",
   "execution_count": null,
   "metadata": {},
   "outputs": [],
   "source": [
    "analyzer_name = \"domain\"\n",
    "timeline_ID = 12\n",
    "sketches = [(x.id, x.name) for x in ts_client.list_sketches()]\n",
    "for sketch_info in sketches:\n",
    "    try:\n",
    "        sketch = ts_client.get_sketch(sketch_info[0])\n",
    "        timelines_ID = [x.id for x in sketch.list_timelines()]\n",
    "        if timeline_ID in timelines_ID:\n",
    "            print(f\"Found timeline ID {timeline_ID} in sketch {sketch_info[1]}\")\n",
    "            print(f\"Run anylyzer {analyzer_name} for timeline ID {timeline_ID}...\")\n",
    "            timeline = sketch.get_timeline(timeline_ID)\n",
    "            analyzer = timeline.run_analyzer(analyzer_name=analyzer_name, ignore_previous=True)\n",
    "            print(\"Run below cells to get the analyzer's result\")\n",
    "            break\n",
    "    except Exception as e:\n",
    "        print(f\"Cannot run analyzer on timeline ID {timeline_ID}\")"
   ]
  },
  {
   "cell_type": "code",
   "execution_count": null,
   "metadata": {},
   "outputs": [],
   "source": [
    "all_results = [x._fetch_data() for x in analyzer]\n",
    "all_results"
   ]
  },
  {
   "cell_type": "markdown",
   "metadata": {},
   "source": [
    "## AGGREGATION Section\n",
    "In this section the user can run aggregation query and more ... "
   ]
  },
  {
   "cell_type": "code",
   "execution_count": null,
   "metadata": {},
   "outputs": [],
   "source": []
  }
 ],
 "metadata": {
  "kernelspec": {
   "display_name": "Python 3 (ipykernel)",
   "language": "python",
   "name": "python3"
  },
  "language_info": {
   "codemirror_mode": {
    "name": "ipython",
    "version": 3
   },
   "file_extension": ".py",
   "mimetype": "text/x-python",
   "name": "python",
   "nbconvert_exporter": "python",
   "pygments_lexer": "ipython3",
   "version": "3.10.7"
  }
 },
 "nbformat": 4,
 "nbformat_minor": 2
}
