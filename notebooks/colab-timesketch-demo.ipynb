{
  "nbformat": 4,
  "nbformat_minor": 0,
  "metadata": {
    "colab": {
      "name": "Timesketch And Colab.ipynb",
      "version": "0.3.2",
      "provenance": [],
      "private_outputs": true,
      "include_colab_link": true
    },
    "kernelspec": {
      "name": "python3",
      "display_name": "Python 3"
    }
  },
  "cells": [
    {
      "cell_type": "markdown",
      "metadata": {
        "id": "view-in-github",
        "colab_type": "text"
      },
      "source": [
        "<a href=\"https://colab.research.google.com/github/google/timesketch/blob/colab_channge/notebooks/colab-timesketch-demo.ipynb\" target=\"_parent\"><img src=\"https://colab.research.google.com/assets/colab-badge.svg\" alt=\"Open In Colab\"/></a>"
      ]
    },
    {
      "cell_type": "markdown",
      "metadata": {
        "id": "mZWOhSLNRInc",
        "colab_type": "text"
      },
      "source": [
        "# Timesketch and Colab\n",
        "\n",
        "This is a small colab that is built to demonstrate how to interact with Timesketch from colab to do some additional exploration of the data.\n",
        "\n",
        "Colab can greatly complement investigations by providing the analyst with access to the powers of using python to manipulate the data stored in Timeskech. Additionally it provides developers with the ability to do research on the data in order to speed up developments of analyzers, aggregators and graphing. The purpose of this colab is simply to briefly introduce the powers of colab to analysts and developers, with the hope of inspiring more to take advantage of this powerful platform. It is also an option to use jupyter notebook instead of colab, both are just as valid options.\n",
        "\n",
        "Each code cell (denoted by the [] and grey color) can be run simply by hitting \"shift + enter\" inside it. The first code that you execute will automatically connect you to a public runtime for colab and connect to the publicly open demo timesketch. You can easily add new code cells, or modify the code that is already there to experiment.\n",
        "\n",
        "## README\n",
        "\n",
        "If you want to have your own copy of the colab to make some changes or do some other experimentation you can simply select \"File / Save a Copy in Drive\" button to make your own copy of this colab and start making changes.\n",
        "\n",
        "If you want to connect colab to your own Timesketch instance (that is if it is not publicly reachable) you can build your own colab runtime, hit the small triangle right next to the \"**Connect**\" button in the upper right corner and select \"Connect to local runtime\". There will be instructions on how to setup your local runtime there. \n",
        "\n",
        "Once you have your local runtime setup you should be able to reach your local Timesketch instance.\n"
      ]
    },
    {
      "cell_type": "markdown",
      "metadata": {
        "id": "4_TQvEgTRRVK",
        "colab_type": "text"
      },
      "source": [
        "## Installation\n",
        "\n",
        "Let's start by installing the TS API client... all commands that start with ! are executed in the shell, therefore if you are missing Python packages you can use pip.\n",
        "\n",
        "This colab uses python2 as the underlying python binary."
      ]
    },
    {
      "cell_type": "code",
      "metadata": {
        "id": "Qmu0lOJYRFYD",
        "colab_type": "code",
        "colab": {}
      },
      "source": [
        "!pip install timesketch-api-client"
      ],
      "execution_count": 0,
      "outputs": []
    },
    {
      "cell_type": "markdown",
      "metadata": {
        "id": "lWnyv25sRUyk",
        "colab_type": "text"
      },
      "source": [
        "Then we need to import some libraries that we'll use in this colab."
      ]
    },
    {
      "cell_type": "code",
      "metadata": {
        "id": "nh4pwmG-RI2w",
        "colab_type": "code",
        "colab": {}
      },
      "source": [
        "import altair as alt # For graphing.\n",
        "import numpy as np   # Never know when this will come in handy.\n",
        "import pandas as pd  # We will be using pandas quite heavily.\n",
        "\n",
        "from timesketch_api_client import client"
      ],
      "execution_count": 0,
      "outputs": []
    },
    {
      "cell_type": "markdown",
      "metadata": {
        "id": "uMYsDkCgYK5y",
        "colab_type": "text"
      },
      "source": [
        "## Connect to TS"
      ]
    },
    {
      "cell_type": "markdown",
      "metadata": {
        "id": "9IUzNc8yRanl",
        "colab_type": "text"
      },
      "source": [
        "And now we can start creating a timesketch client. The client is the object used to connect to the TS server and provides the API to interact with it.\n",
        "\n",
        "This will connect to the public demo of timesketch, you may want to change these parameters to connect to your own TS instance."
      ]
    },
    {
      "cell_type": "code",
      "metadata": {
        "id": "1QQFoUFWRP4N",
        "colab_type": "code",
        "cellView": "form",
        "colab": {}
      },
      "source": [
        "#@title Client Information { run: \"auto\"}\n",
        "\n",
        "SERVER = 'https://demo.timesketch.org' #@param {type: \"string\"}\n",
        "USER = 'demo' #@param {type: \"string\"}\n",
        "PASSWORD = 'demo' #@param {type: \"string\"}\n",
        "\n",
        "\n",
        "ts_client = client.TimesketchApi(SERVER, USER, PASSWORD)"
      ],
      "execution_count": 0,
      "outputs": []
    },
    {
      "cell_type": "markdown",
      "metadata": {
        "id": "aKC_0-qlfzYA",
        "colab_type": "text"
      },
      "source": [
        "(hint the above cell is just a small piece of code, you can see the code by clicking the \"three dots\" and Form/Show code )"
      ]
    },
    {
      "cell_type": "markdown",
      "metadata": {
        "id": "pX1B1gccRv9L",
        "colab_type": "text"
      },
      "source": [
        "### Let's Explore\n",
        "And now we can start to explore. The first thing is to get all the sketches that are available. Most of the operations you want to do with TS are available in the sketch API."
      ]
    },
    {
      "cell_type": "code",
      "metadata": {
        "id": "QN2r9x3uRvRG",
        "colab_type": "code",
        "colab": {}
      },
      "source": [
        "sketches = ts_client.list_sketches()"
      ],
      "execution_count": 0,
      "outputs": []
    },
    {
      "cell_type": "markdown",
      "metadata": {
        "id": "r6Qmi4v_SGX1",
        "colab_type": "text"
      },
      "source": [
        "Now that we've got a lis of all available sketches, let's print out the names of the sketches as well as the index into the list, so that we can more easily choose a sketch that interests us."
      ]
    },
    {
      "cell_type": "code",
      "metadata": {
        "id": "Wn0zDL6SRuYY",
        "colab_type": "code",
        "colab": {}
      },
      "source": [
        "for i, sketch in enumerate(sketches):\n",
        "  print('[{0:d}] {1:s}'.format(i, sketch.name))"
      ],
      "execution_count": 0,
      "outputs": []
    },
    {
      "cell_type": "markdown",
      "metadata": {
        "id": "c2ykfp9unWUK",
        "colab_type": "text"
      },
      "source": [
        "Another way is to create a dictionary where the keys are the names of the sketchces and values are the sketch objects."
      ]
    },
    {
      "cell_type": "code",
      "metadata": {
        "id": "GzQjPxiem7di",
        "colab_type": "code",
        "colab": {}
      },
      "source": [
        "sketch_dict = dict((x.name, x) for x in sketches)"
      ],
      "execution_count": 0,
      "outputs": []
    },
    {
      "cell_type": "code",
      "metadata": {
        "id": "J8Rvpi-XnEZ8",
        "colab_type": "code",
        "colab": {}
      },
      "source": [
        "sketch_dict"
      ],
      "execution_count": 0,
      "outputs": []
    },
    {
      "cell_type": "markdown",
      "metadata": {
        "id": "NK0EqQ-1Siaa",
        "colab_type": "text"
      },
      "source": [
        "Let's now take a closer look at some of the data we've got in the \"Greendale\" investigation."
      ]
    },
    {
      "cell_type": "code",
      "metadata": {
        "id": "lT6Oh0GRSFg1",
        "colab_type": "code",
        "colab": {}
      },
      "source": [
        "gd_sketch = sketch_dict.get('The Greendale incident - 2019', sketches[0])"
      ],
      "execution_count": 0,
      "outputs": []
    },
    {
      "cell_type": "markdown",
      "metadata": {
        "id": "KM5Gum5kWfim",
        "colab_type": "text"
      },
      "source": [
        "Now that we've connected to a sketch we can do all sorts of things.\n",
        "\n",
        "Try doing: `gd_sketch.<TAB>`\n",
        "\n",
        "In colab you can use TAB completion to get a list of all attributes of the object you are working with. See a function you may want to call? Try calling it with `gd_sketch.function_name?` and hit enter.. let's look at an example:\n",
        "\n"
      ]
    },
    {
      "cell_type": "code",
      "metadata": {
        "id": "e7oEZ80sYzc7",
        "colab_type": "code",
        "colab": {}
      },
      "source": [
        "gd_sketch.explore?"
      ],
      "execution_count": 0,
      "outputs": []
    },
    {
      "cell_type": "markdown",
      "metadata": {
        "id": "8h2S3dXBY6c0",
        "colab_type": "text"
      },
      "source": [
        "This way you'll get a list of all the parameters you may want or need to use. You can also use tab completion as soon as you type, `gd_sketch.e<TAB>` will give you all options that start with an `e`, etc.\n",
        "\n",
        "You can also type `gd_sketch.explore(<TAB>)` and get a pop-up with a list of what parameters this function provides.\n",
        "\n",
        "Now let's look at somethings we can do with the sketch object and the TS client. For example if we want to get all starred events in the sketch we can do that by querying the sketch for available labels. You can look at a label as a \"sketch specific tag\", that is unlike a tag that is stored in the Elastic document and therefore is shared among all sketches that have that same timeline attached, a label is bound to the actual sketch and therefore not available outside of it... this is used in various places, most notably to indicate which events have labels, are hidden from views and are starred. These pre-defined labels are:\n",
        "\n",
        "+ __ts_star: Starred event\n",
        "+ __ts_comment: Event with a comment\n",
        "+ __ts_hidden: A hidden event\n",
        "\n",
        "Let's for instance look at all starred events in the Greendale index:"
      ]
    },
    {
      "cell_type": "code",
      "metadata": {
        "id": "HejGxei3hfnM",
        "colab_type": "code",
        "colab": {}
      },
      "source": [
        "lines = []\n",
        "\n",
        "star_label = gd_sketch.search_by_label('__ts_star')\n",
        "\n",
        "for obj in star_label.get('objects', []):\n",
        "  event = obj.get('_source', {})\n",
        "  event['_id'] = obj.get('_id')\n",
        "  event['_index'] = obj.get('_index')\n",
        "  lines.append(event)\n",
        "  \n",
        "labeled_events = pd.DataFrame(lines)\n",
        "\n",
        "labeled_events.shape"
      ],
      "execution_count": 0,
      "outputs": []
    },
    {
      "cell_type": "markdown",
      "metadata": {
        "id": "VFmX8tY-bRnC",
        "colab_type": "text"
      },
      "source": [
        "As you noticed there are quite a few starred events.. to limit this, let's look at just the first 10"
      ]
    },
    {
      "cell_type": "code",
      "metadata": {
        "id": "Logz1UvNbV87",
        "colab_type": "code",
        "colab": {}
      },
      "source": [
        "labeled_events.head(10)"
      ],
      "execution_count": 0,
      "outputs": []
    },
    {
      "cell_type": "markdown",
      "metadata": {
        "id": "6RZS868gbakg",
        "colab_type": "text"
      },
      "source": [
        "Or a single one..."
      ]
    },
    {
      "cell_type": "code",
      "metadata": {
        "id": "168Ny0fObbx1",
        "colab_type": "code",
        "colab": {}
      },
      "source": [
        "pd.set_option('display.max_colwidth', 100)\n",
        "labeled_events.iloc[9]"
      ],
      "execution_count": 0,
      "outputs": []
    },
    {
      "cell_type": "markdown",
      "metadata": {
        "id": "hMzUvQt2aU37",
        "colab_type": "text"
      },
      "source": [
        "To continue let's look at what views have been stored in the sketch:"
      ]
    },
    {
      "cell_type": "code",
      "metadata": {
        "id": "AYgCmg_yZOO7",
        "colab_type": "code",
        "colab": {}
      },
      "source": [
        "views = gd_sketch.list_views()\n",
        "\n",
        "for index, view in enumerate(views):\n",
        "  print('[{0:d}] {1:s}'.format(index, view.name))"
      ],
      "execution_count": 0,
      "outputs": []
    },
    {
      "cell_type": "markdown",
      "metadata": {
        "id": "Tt5SWKzgZZe5",
        "colab_type": "text"
      },
      "source": [
        "You can then start to query the API to get back results from these views. Let's try one of them...\n",
        "\n",
        "Word of caution, try to limit your search so that you don't get too many results back. The API will happily let you get all the results back as you choose, but the more records you get back the longer the API call will take (10k events per API call). "
      ]
    },
    {
      "cell_type": "code",
      "metadata": {
        "id": "yY8jk_UzSpCE",
        "colab_type": "code",
        "colab": {}
      },
      "source": [
        "# You can change this number if you would like to test out another view.\n",
        "# The way the code works is that it checks first of you set the \"view_text\", and uses that to pick a view, otherwise the number is used.\n",
        "view_number = 1\n",
        "view_text = '[phishy_domains] Phishy Domains'\n",
        "\n",
        "if view_text:\n",
        "  for index, view in enumerate(views):\n",
        "    if view.name == view_text:\n",
        "      view_number = index\n",
        "      break\n",
        "\n",
        "print('Fetching data from : {0:s}'.format(views[view_number].name))\n",
        "print('        Query used : {0:s}'.format(views[view_number].query_string if views[view_number].query_string else views[view_number].query_dsl))\n"
      ],
      "execution_count": 0,
      "outputs": []
    },
    {
      "cell_type": "markdown",
      "metadata": {
        "id": "zLgLBXXMlDKa",
        "colab_type": "text"
      },
      "source": [
        "If you want to issue this query, then you can run the cell below, otherwise you can change the view_number to try another one."
      ]
    },
    {
      "cell_type": "code",
      "metadata": {
        "id": "MmlF6oYcj8wh",
        "colab_type": "code",
        "colab": {}
      },
      "source": [
        "greendale_frame = gd_sketch.explore(view=views[view_number], as_pandas=True)"
      ],
      "execution_count": 0,
      "outputs": []
    },
    {
      "cell_type": "markdown",
      "metadata": {
        "id": "jEki5_BmZpKu",
        "colab_type": "text"
      },
      "source": [
        "Did you notice the \"`as_pandas=True`\" parameter that got passed to the \"`explore`\" function? That means that the data that we'll get back is a pandas DataFrame that we can now start exploring. \n",
        "\n",
        "Let's start with seeing how many entries we got back."
      ]
    },
    {
      "cell_type": "code",
      "metadata": {
        "id": "1_fjRL4XZ-XW",
        "colab_type": "code",
        "colab": {}
      },
      "source": [
        "greendale_frame.shape"
      ],
      "execution_count": 0,
      "outputs": []
    },
    {
      "cell_type": "markdown",
      "metadata": {
        "id": "XWjrJnivaSo9",
        "colab_type": "text"
      },
      "source": [
        "This tells us that the view returned back 670 events with 12 columns. Let's explore the first few entries, just so that we can wrap our head around what we got back."
      ]
    },
    {
      "cell_type": "code",
      "metadata": {
        "id": "ymR_NtseaRrO",
        "colab_type": "code",
        "colab": {}
      },
      "source": [
        "greendale_frame.head(5)"
      ],
      "execution_count": 0,
      "outputs": []
    },
    {
      "cell_type": "markdown",
      "metadata": {
        "id": "bdPUgvNtl82r",
        "colab_type": "text"
      },
      "source": [
        "Let's look at what columns we got back... and maybe create a slice that contains fewer columns."
      ]
    },
    {
      "cell_type": "code",
      "metadata": {
        "id": "zuu7VFCAmB9e",
        "colab_type": "code",
        "colab": {}
      },
      "source": [
        "greendale_frame.columns"
      ],
      "execution_count": 0,
      "outputs": []
    },
    {
      "cell_type": "code",
      "metadata": {
        "id": "Dqv6gXlKmEUW",
        "colab_type": "code",
        "colab": {}
      },
      "source": [
        "greendale_slice = greendale_frame[['datetime', 'timestamp_desc', 'tag', 'message', 'label']]\n",
        "\n",
        "greendale_slice.head(4)"
      ],
      "execution_count": 0,
      "outputs": []
    },
    {
      "cell_type": "markdown",
      "metadata": {
        "id": "D-5xReYEHxKc",
        "colab_type": "text"
      },
      "source": [
        "Since this is a result from the analyzers we have few extra fields we can pull in. \n",
        "\n",
        "When running `gd_sketch.explore?` did you notice the field called `return_fields`:\n",
        "\n",
        "```\n",
        "    return_fields: List of fields that should be included in the\n",
        "        response.\n",
        " ```\n",
        " \n",
        " We can use that to specify what fields we would like to get back. Let's add few more fields (you can see what fields are available in the UI)\n",
        "\n"
      ]
    },
    {
      "cell_type": "code",
      "metadata": {
        "id": "EMvcyumPH4eW",
        "colab_type": "code",
        "colab": {}
      },
      "source": [
        "greendale_frame = gd_sketch.explore(view=views[view_number], return_fields='datetime,message,source_short,tag,timestamp_desc,url,domain,human_readable', as_pandas=True)"
      ],
      "execution_count": 0,
      "outputs": []
    },
    {
      "cell_type": "markdown",
      "metadata": {
        "id": "_mvDnsFfIful",
        "colab_type": "text"
      },
      "source": [
        "Let's briefly look at these events."
      ]
    },
    {
      "cell_type": "code",
      "metadata": {
        "id": "ip3vimOaIhhY",
        "colab_type": "code",
        "colab": {}
      },
      "source": [
        "greendale_slice = greendale_frame[['datetime', 'timestamp_desc', 'tag', 'human_readable', 'url', 'domain']]\n",
        "\n",
        "greendale_slice.head(5)"
      ],
      "execution_count": 0,
      "outputs": []
    },
    {
      "cell_type": "markdown",
      "metadata": {
        "id": "PKioTKqoI85E",
        "colab_type": "text"
      },
      "source": [
        "OK,.... since this is a phishy domain analyzer, and all the results we got back are essentially from that analyzer, let's look at few things. First of all let's look at the tags tha are available."
      ]
    },
    {
      "cell_type": "code",
      "metadata": {
        "id": "MFMRBxtRJDcK",
        "colab_type": "code",
        "colab": {}
      },
      "source": [
        "greendale_frame['tag_string'] = greendale_frame.tag.str.join('|')\n",
        "\n",
        "greendale_frame.tag_string.unique()"
      ],
      "execution_count": 0,
      "outputs": []
    },
    {
      "cell_type": "markdown",
      "metadata": {
        "id": "KP_joLR7JVJ8",
        "colab_type": "text"
      },
      "source": [
        "OK... so we've got some that are part of the whitelisted-domain... let's look at those the domains that are marked as \"phishy\" yet excluding those that are whitelisted."
      ]
    },
    {
      "cell_type": "code",
      "metadata": {
        "id": "h9l165w_JdtT",
        "colab_type": "code",
        "colab": {}
      },
      "source": [
        "greendale_frame[~greendale_frame.tag_string.str.contains('whitelisted-domain')].domain.value_counts()"
      ],
      "execution_count": 0,
      "outputs": []
    },
    {
      "cell_type": "markdown",
      "metadata": {
        "id": "VADR_gpAJzMz",
        "colab_type": "text"
      },
      "source": [
        "OK... now we get to see all the domains that the domain analyzer considered to be potentially \"phishy\"... is there a domain that stands out??? what about that grendale one?"
      ]
    },
    {
      "cell_type": "code",
      "metadata": {
        "id": "-1PBtCtjJ5Ag",
        "colab_type": "code",
        "colab": {}
      },
      "source": [
        "greendale_slice[greendale_slice.domain == 'grendale.xyz']"
      ],
      "execution_count": 0,
      "outputs": []
    },
    {
      "cell_type": "markdown",
      "metadata": {
        "id": "4PbDcNMzJ-8S",
        "colab_type": "text"
      },
      "source": [
        "OK... this seems odd.. let's look at few things, a the `human_readable` string as well as the URL..."
      ]
    },
    {
      "cell_type": "code",
      "metadata": {
        "id": "vxnMcThfKEOs",
        "colab_type": "code",
        "colab": {}
      },
      "source": [
        "grendale = greendale_slice[greendale_slice.domain == 'grendale.xyz']\n",
        "\n",
        "string_set = set()\n",
        "for string_list in grendale.human_readable:\n",
        "  new_list = [x for x in string_list if 'phishy_domain' in x]\n",
        "  _ = list(map(string_set.add, new_list))\n",
        "\n",
        "for entry in string_set:\n",
        "  print('Human readable string is: {0:s}'.format(entry))\n",
        "  \n",
        "\n",
        "print('')\n",
        "print('Counts for URL connections to the grendale domain:')\n",
        "grendale_count = grendale.url.value_counts()\n",
        "for index in grendale_count.index:\n",
        "  print('[{0:d}] {1:s}'.format(grendale_count[index], index))"
      ],
      "execution_count": 0,
      "outputs": []
    },
    {
      "cell_type": "markdown",
      "metadata": {
        "id": "1QH7LFksLuLd",
        "colab_type": "text"
      },
      "source": [
        "We can start doing a lot more now if we want to... let's look at when these things occurred..."
      ]
    },
    {
      "cell_type": "code",
      "metadata": {
        "id": "-EShYajvL1RE",
        "colab_type": "code",
        "colab": {}
      },
      "source": [
        "grendale_array = grendale.url.unique()\n",
        "\n",
        "greendale_slice[greendale_slice.url.isin(grendale_array)]"
      ],
      "execution_count": 0,
      "outputs": []
    },
    {
      "cell_type": "markdown",
      "metadata": {
        "id": "DrvPXI8zMETu",
        "colab_type": "text"
      },
      "source": [
        "OK... we can then start to look at surrounding events.... let's look at one date in particular...  \"2015-08-29 12:21:06\""
      ]
    },
    {
      "cell_type": "code",
      "metadata": {
        "id": "kwJrIsErMNGv",
        "colab_type": "code",
        "colab": {}
      },
      "source": [
        "query_dsl = \"\"\"\n",
        "{\n",
        "\t\"query\": {\n",
        "\t\t\"bool\": {\n",
        "\t\t\t\"filter\": {\n",
        "\t\t\t\t\"bool\": {\n",
        "\t\t\t\t\t\"should\": [\n",
        "\t\t\t\t\t\t{\n",
        "\t\t\t\t\t\t\t\"range\": {\n",
        "\t\t\t\t\t\t\t\t\"datetime\": {\n",
        "\t\t\t\t\t\t\t\t\t\"gte\": \"2015-08-29T12:20:06\",\n",
        "\t\t\t\t\t\t\t\t\t\"lte\": \"2015-08-29T12:22:06\"\n",
        "\t\t\t\t\t\t\t\t}\n",
        "\t\t\t\t\t\t\t}\n",
        "\t\t\t\t\t\t}\n",
        "\t\t\t\t\t]\n",
        "\t\t\t\t}\n",
        "\t\t\t},\n",
        "\t\t\t\"must\": [\n",
        "\t\t\t\t{\n",
        "\t\t\t\t\t\"query_string\": {\n",
        "\t\t\t\t\t\t\"query\": \"*\"\n",
        "\t\t\t\t\t}\n",
        "\t\t\t\t}\n",
        "\t\t\t]\n",
        "\t\t}\n",
        "\t},\n",
        "\t\"size\": 10000,\n",
        "\t\"sort\": {\n",
        "\t\t\"datetime\": \"asc\"\n",
        "\t}\n",
        "}\n",
        "\"\"\"\n",
        "\n",
        "data = gd_sketch.explore(query_dsl=query_dsl, return_fields='message,human_readable,datetime,timestamp_desc,source_short,data_type,tags,url,domain', as_pandas=True)"
      ],
      "execution_count": 0,
      "outputs": []
    },
    {
      "cell_type": "code",
      "metadata": {
        "id": "6NSD4izoNExQ",
        "colab_type": "code",
        "colab": {}
      },
      "source": [
        "data[['datetime', 'message', 'human_readable', 'url']].head(4)"
      ],
      "execution_count": 0,
      "outputs": []
    },
    {
      "cell_type": "markdown",
      "metadata": {
        "id": "gEQ9yZbTNzjJ",
        "colab_type": "text"
      },
      "source": [
        "Let's find the grendale and just look at events two seconds before/after"
      ]
    },
    {
      "cell_type": "code",
      "metadata": {
        "id": "wA9lQ1JANdGg",
        "colab_type": "code",
        "colab": {}
      },
      "source": [
        "data[(data.datetime > '2015-08-29 12:21:04') & (data.datetime < '2015-08-29 12:21:08')][['datetime', 'message', 'timestamp_desc']]"
      ],
      "execution_count": 0,
      "outputs": []
    },
    {
      "cell_type": "markdown",
      "metadata": {
        "id": "0tA4pHRLOj5g",
        "colab_type": "text"
      },
      "source": [
        "## Let's look at logins...\n",
        "\n",
        "Let's do a search to look at login entries..."
      ]
    },
    {
      "cell_type": "code",
      "metadata": {
        "id": "vbsb58imPVCQ",
        "colab_type": "code",
        "colab": {}
      },
      "source": [
        "login_data = gd_sketch.explore(\n",
        "    'data_type:\"windows:evtx:record\" AND event_identifier:4624', \n",
        "    return_fields='datetime,timestamp_desc,human_readable,message,tag,event_identifier,computer_name,record_number,recovered,strings,username',\n",
        "    as_pandas=True\n",
        ")"
      ],
      "execution_count": 0,
      "outputs": []
    },
    {
      "cell_type": "markdown",
      "metadata": {
        "id": "YydMkgThab09",
        "colab_type": "text"
      },
      "source": [
        "This will produce quite a bit of events... let's look at how many."
      ]
    },
    {
      "cell_type": "code",
      "metadata": {
        "id": "-PxPYIA5Pvks",
        "colab_type": "code",
        "colab": {}
      },
      "source": [
        "login_data.shape"
      ],
      "execution_count": 0,
      "outputs": []
    },
    {
      "cell_type": "markdown",
      "metadata": {
        "id": "ZsM5me3KQwp4",
        "colab_type": "text"
      },
      "source": [
        "Let's look at usernames...."
      ]
    },
    {
      "cell_type": "code",
      "metadata": {
        "id": "kfuzWPfJQynH",
        "colab_type": "code",
        "colab": {}
      },
      "source": [
        "login_data.username.value_counts()"
      ],
      "execution_count": 0,
      "outputs": []
    },
    {
      "cell_type": "markdown",
      "metadata": {
        "id": "ccCwN92sQ5qb",
        "colab_type": "text"
      },
      "source": [
        "It seems as the login analyzer was not working properly... so let's extract these fields manually..."
      ]
    },
    {
      "cell_type": "code",
      "metadata": {
        "id": "cg1xPWKXa9QY",
        "colab_type": "code",
        "colab": {}
      },
      "source": [
        "login_data['account_name'] = login_data.message.str.extract(r'Account Name:.+Account Name:\\\\t\\\\t([^\\\\]+)\\\\n', expand=False)\n",
        "login_data['account_domain'] = login_data.message.str.extract(r'Account Domain:.+Account Domain:\\\\t\\\\t([^\\\\]+)\\\\n', expand=False)\n",
        "login_data['process_name'] = login_data.message.str.extract(r'Process Name:.+Process Name:\\\\t\\\\t([^\\\\]+)\\\\n', expand=False)\n",
        "login_data['date'] = pd.to_datetime(login_data.datetime)"
      ],
      "execution_count": 0,
      "outputs": []
    },
    {
      "cell_type": "markdown",
      "metadata": {
        "id": "5ApoSLqLfXbX",
        "colab_type": "text"
      },
      "source": [
        "What accounts have logged in:"
      ]
    },
    {
      "cell_type": "code",
      "metadata": {
        "id": "tKF9UR3mbSC-",
        "colab_type": "code",
        "colab": {}
      },
      "source": [
        "login_data.account_name.value_counts()"
      ],
      "execution_count": 0,
      "outputs": []
    },
    {
      "cell_type": "markdown",
      "metadata": {
        "id": "9fy6EAURSpvK",
        "colab_type": "text"
      },
      "source": [
        "Let's look at all the computers in there..."
      ]
    },
    {
      "cell_type": "code",
      "metadata": {
        "id": "DFU56oKaSUMC",
        "colab_type": "code",
        "colab": {}
      },
      "source": [
        "login_data.computer_name.value_counts()"
      ],
      "execution_count": 0,
      "outputs": []
    },
    {
      "cell_type": "markdown",
      "metadata": {
        "id": "8IApcGWwfaMS",
        "colab_type": "text"
      },
      "source": [
        "Let's graph.... and you can then interact with the graph... try zomming in, etc.\n",
        "\n",
        "First we'll define a graph function that we can then call with parameters..."
      ]
    },
    {
      "cell_type": "code",
      "metadata": {
        "id": "HwU4K4MnaYdt",
        "colab_type": "code",
        "colab": {}
      },
      "source": [
        "def GraphLogins(data_frame, machine_name=None):\n",
        "  \n",
        "  if machine_name:\n",
        "    data_slice = data_frame[data_frame.computer_name == machine_name]\n",
        "    title = 'Accounts Logged In - {0:s}'.format(machine_name)\n",
        "  else:\n",
        "    data_slice = data_frame\n",
        "    title = 'Accounts Logged In'\n",
        "    \n",
        "  data_grouped = data_slice[['account_name', 'date']].groupby('account_name', as_index=False).count()\n",
        "  data_grouped['count'] = data_grouped.date\n",
        "  del data_grouped['date']\n",
        "\n",
        "  return alt.Chart(data_grouped, width=400).mark_bar().encode(\n",
        "    x='account_name', y='count',\n",
        "    tooltip=['account_name', 'count']\n",
        "  ).properties(\n",
        "    title=title\n",
        "  ).interactive()\n"
      ],
      "execution_count": 0,
      "outputs": []
    },
    {
      "cell_type": "markdown",
      "metadata": {
        "id": "9stCil8TgXhq",
        "colab_type": "text"
      },
      "source": [
        "Start by graphing all machines"
      ]
    },
    {
      "cell_type": "code",
      "metadata": {
        "id": "T-oUET5AgYyW",
        "colab_type": "code",
        "colab": {}
      },
      "source": [
        "GraphLogins(login_data)"
      ],
      "execution_count": 0,
      "outputs": []
    },
    {
      "cell_type": "markdown",
      "metadata": {
        "id": "drEG2TTSncoS",
        "colab_type": "text"
      },
      "source": [
        "Or we can look at this for a particular machine:"
      ]
    },
    {
      "cell_type": "code",
      "metadata": {
        "id": "SP1vf_xBUr2a",
        "colab_type": "code",
        "colab": {}
      },
      "source": [
        "GraphLogins(login_data, 'Student-PC1.internal.greendale.edu')"
      ],
      "execution_count": 0,
      "outputs": []
    },
    {
      "cell_type": "markdown",
      "metadata": {
        "id": "2axKKhp7Unfe",
        "colab_type": "text"
      },
      "source": [
        "Or we can look at this as a scatter plot...\n",
        "\n",
        "First we'll define a function that munches the data for us. This function will essentially graph all logins in a day with a scatter plot, using colors to denote the count value.\n",
        "\n",
        "**This graph will be very interactive... try selecting a time period by clicking with the mouse on the upper graph and drawing a selection.**"
      ]
    },
    {
      "cell_type": "code",
      "metadata": {
        "id": "D9DiG03hazwY",
        "colab_type": "code",
        "colab": {}
      },
      "source": [
        "login_data['day'] = login_data['date'].dt.strftime('%Y-%m-%d')\n",
        "\n",
        "def GraphScatterLogin(data_frame, machine_name=''):\n",
        "  if machine_name:\n",
        "    data_slice = data_frame[data_frame.computer_name == machine_name]\n",
        "    title = 'Accounts Logged In - {0:s}'.format(machine_name)\n",
        "  else:\n",
        "    data_slice = data_frame\n",
        "    title = 'Accounts Logged In'\n",
        "  \n",
        "  login_grouped = data_slice[['day', 'computer_name', 'account_name', 'message']].groupby(['day', 'computer_name', 'account_name'], as_index=False).count()\n",
        "  login_grouped['count'] = login_grouped.message\n",
        "  del login_grouped['message']\n",
        "    \n",
        "  brush = alt.selection_interval(encodings=['x'])\n",
        "  click = alt.selection_multi(encodings=['color'])\n",
        "  color = alt.Color('count:Q')\n",
        "\n",
        "  chart1 = alt.Chart(login_grouped).mark_point().encode(\n",
        "      x='day', \n",
        "      y='account_name',\n",
        "      color=alt.condition(brush, color, alt.value('lightgray')),\n",
        "  ).properties(\n",
        "      title=title,\n",
        "      width=600\n",
        "  ).add_selection(\n",
        "      brush\n",
        "  ).transform_filter(\n",
        "      click\n",
        "  )\n",
        "  \n",
        "  chart2 = alt.Chart(login_grouped).mark_bar().encode(\n",
        "      x='count',\n",
        "      y='account_name',\n",
        "      color=alt.condition(brush, color, alt.value('lightgray')),\n",
        "      tooltip=['count'],\n",
        "  ).transform_filter(\n",
        "      brush\n",
        "  ).properties(\n",
        "      width=600\n",
        "  ).add_selection(\n",
        "      click\n",
        "  )\n",
        "  \n",
        "  return chart1 & chart2"
      ],
      "execution_count": 0,
      "outputs": []
    },
    {
      "cell_type": "markdown",
      "metadata": {
        "id": "Z4s-lEHxhQXH",
        "colab_type": "text"
      },
      "source": [
        "OK, let's start by graphing for all logins..."
      ]
    },
    {
      "cell_type": "code",
      "metadata": {
        "id": "PuaJmcJMhShS",
        "colab_type": "code",
        "colab": {}
      },
      "source": [
        "GraphScatterLogin(login_data)"
      ],
      "execution_count": 0,
      "outputs": []
    },
    {
      "cell_type": "markdown",
      "metadata": {
        "id": "dpLDsdSGhT1r",
        "colab_type": "text"
      },
      "source": [
        "And now just for the Student-PC1"
      ]
    },
    {
      "cell_type": "code",
      "metadata": {
        "id": "2XaBqZqRVIoL",
        "colab_type": "code",
        "colab": {}
      },
      "source": [
        "GraphScatterLogin(login_data, 'Student-PC1.internal.greendale.edu')"
      ],
      "execution_count": 0,
      "outputs": []
    },
    {
      "cell_type": "markdown",
      "metadata": {
        "id": "z0f-qAxyhYa4",
        "colab_type": "text"
      },
      "source": [
        "And now it is your time to shine, experiment with python pandas, the graphing library and other data science techniques."
      ]
    },
    {
      "cell_type": "code",
      "metadata": {
        "id": "vfCXHHx8YNPv",
        "colab_type": "code",
        "colab": {}
      },
      "source": [
        ""
      ],
      "execution_count": 0,
      "outputs": []
    }
  ]
}