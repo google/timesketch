{
  "nbformat": 4,
  "nbformat_minor": 0,
  "metadata": {
    "colab": {
      "name": "Timesketch And Colab.ipynb",
      "version": "0.3.2",
      "provenance": [],
      "private_outputs": true
    },
    "kernelspec": {
      "name": "python2",
      "display_name": "Python 2"
    }
  },
  "cells": [
    {
      "metadata": {
        "id": "mZWOhSLNRInc",
        "colab_type": "text"
      },
      "cell_type": "markdown",
      "source": [
        "# Timesketch and Colab\n",
        "\n",
        "This is a small colab that is built to demonstrate how to interact with Timesketch from colab to do some additional exploration of the data.\n",
        "\n",
        "Colab can greatly complement investigations by providing the analyst with access to the powers of using python to manipulate the data stored in Timeskech. Additionally it provides developers with the ability to do research on the data in order to speed up developments of analyzers, aggregators and graphing. The purpose of this colab is simply to briefly introduce the powers of colab to analysts and developers, with the hope of inspiring more to take advantage of this powerful platform.\n",
        "\n",
        "Each code cell (denoted by the [] and grey color) can be run simply by hitting \"shift + enter\" insice it. The first code that you execute will automatically connect you to a public runtime for colab and connect to the publicly open demo timesketch. You can easily add new code cells, or modify the code that is already there to experiment.\n",
        "\n",
        "## README\n",
        "\n",
        "If you want to have your own copy of the colab to make some changes or do some other experimentation you can simply select \"File / Save a Copy in Drive\" button to make your own copy of this colab and start making changes.\n",
        "\n",
        "If you want to connect colab to your own Timesketch instance (that is if it is not publicly reachable) you can build your own colab runtime, hit the small triangle right next to the \"**Connect**\" button in the upper right corner and select \"Connect to local runtime\". There will be instructions on how to setup your local runtime there. \n",
        "\n",
        "Once you have your local runtime setup you should be able to reach your local Timesketch instance.\n"
      ]
    },
    {
      "metadata": {
        "id": "4_TQvEgTRRVK",
        "colab_type": "text"
      },
      "cell_type": "markdown",
      "source": [
        "## Installation\n",
        "\n",
        "Let's start by installing the TS API client... all commands that start with ! are executed in the shell, therefore if you are missing Python packages you can use pip.\n",
        "\n",
        "This colab uses python2 as the underlying python binary."
      ]
    },
    {
      "metadata": {
        "id": "Qmu0lOJYRFYD",
        "colab_type": "code",
        "colab": {}
      },
      "cell_type": "code",
      "source": [
        "!pip install timesketch-api-client"
      ],
      "execution_count": 0,
      "outputs": []
    },
    {
      "metadata": {
        "id": "lWnyv25sRUyk",
        "colab_type": "text"
      },
      "cell_type": "markdown",
      "source": [
        "Then we need to import some libraries that we'll use in this colab."
      ]
    },
    {
      "metadata": {
        "id": "nh4pwmG-RI2w",
        "colab_type": "code",
        "colab": {}
      },
      "cell_type": "code",
      "source": [
        "import altair as alt # For graphing.\n",
        "import numpy as np   # Never know when this will come in handy.\n",
        "import pandas as pd  # We will be using pandas quite heavily.\n",
        "\n",
        "from timesketch_api_client import client"
      ],
      "execution_count": 0,
      "outputs": []
    },
    {
      "metadata": {
        "id": "uMYsDkCgYK5y",
        "colab_type": "text"
      },
      "cell_type": "markdown",
      "source": [
        "## Connect to TS"
      ]
    },
    {
      "metadata": {
        "id": "9IUzNc8yRanl",
        "colab_type": "text"
      },
      "cell_type": "markdown",
      "source": [
        "And now we can start creating a timesketch client. The client is the object used to connect to the TS server and provides the API to interact with it.\n",
        "\n",
        "This will connect to the public demo of timesketch, you may want to change these parameters to connect to your own TS instance."
      ]
    },
    {
      "metadata": {
        "id": "1QQFoUFWRP4N",
        "colab_type": "code",
        "colab": {}
      },
      "cell_type": "code",
      "source": [
        "ts_client = client.TimesketchApi('https://demo.timesketch.org', 'demo', 'demo')"
      ],
      "execution_count": 0,
      "outputs": []
    },
    {
      "metadata": {
        "id": "pX1B1gccRv9L",
        "colab_type": "text"
      },
      "cell_type": "markdown",
      "source": [
        "### Let's Explore\n",
        "And now we can start to explore. The first thing is to get all the sketches that are available. Most of the operations you want to do with TS are available in the sketch API."
      ]
    },
    {
      "metadata": {
        "id": "QN2r9x3uRvRG",
        "colab_type": "code",
        "colab": {}
      },
      "cell_type": "code",
      "source": [
        "sketches = ts_client.list_sketches()"
      ],
      "execution_count": 0,
      "outputs": []
    },
    {
      "metadata": {
        "id": "r6Qmi4v_SGX1",
        "colab_type": "text"
      },
      "cell_type": "markdown",
      "source": [
        "Now that we've got a lis of all available sketches, let's print out the names of the sketches as well as the index into the list, so that we can more easily choose a sketch that interests us."
      ]
    },
    {
      "metadata": {
        "id": "Wn0zDL6SRuYY",
        "colab_type": "code",
        "colab": {}
      },
      "cell_type": "code",
      "source": [
        "for i, sketch in enumerate(sketches):\n",
        "  print '[{0:d}] {1:s}'.format(i, sketch.name)"
      ],
      "execution_count": 0,
      "outputs": []
    },
    {
      "metadata": {
        "id": "NK0EqQ-1Siaa",
        "colab_type": "text"
      },
      "cell_type": "markdown",
      "source": [
        "Let's now take a closer look at some of the data we've got in the \"Greendale\" investigation."
      ]
    },
    {
      "metadata": {
        "id": "lT6Oh0GRSFg1",
        "colab_type": "code",
        "colab": {}
      },
      "cell_type": "code",
      "source": [
        "gd_sketch = sketches[1]"
      ],
      "execution_count": 0,
      "outputs": []
    },
    {
      "metadata": {
        "id": "c2ykfp9unWUK",
        "colab_type": "text"
      },
      "cell_type": "markdown",
      "source": [
        "Another way is to create a dictionary where the keys are the names of the sketchces and values are the sketch objects."
      ]
    },
    {
      "metadata": {
        "id": "GzQjPxiem7di",
        "colab_type": "code",
        "colab": {}
      },
      "cell_type": "code",
      "source": [
        "sketch_dict = dict((x.name, x) for x in sketches)"
      ],
      "execution_count": 0,
      "outputs": []
    },
    {
      "metadata": {
        "id": "J8Rvpi-XnEZ8",
        "colab_type": "code",
        "colab": {}
      },
      "cell_type": "code",
      "source": [
        "sketch_dict"
      ],
      "execution_count": 0,
      "outputs": []
    },
    {
      "metadata": {
        "id": "KM5Gum5kWfim",
        "colab_type": "text"
      },
      "cell_type": "markdown",
      "source": [
        "Now that we've connected to a sketch we can do all sorts of things.\n",
        "\n",
        "Try doing: `gd_sketch.<TAB>`\n",
        "\n",
        "In colab you can use TAB completion to get a list of all attributes of the object you are working with. See a function you may want to call? Try calling it with `gd_sketch.function_name?` and hit enter.. let's look at an example:\n",
        "\n"
      ]
    },
    {
      "metadata": {
        "id": "e7oEZ80sYzc7",
        "colab_type": "code",
        "colab": {}
      },
      "cell_type": "code",
      "source": [
        "gd_sketch.explore?"
      ],
      "execution_count": 0,
      "outputs": []
    },
    {
      "metadata": {
        "id": "8h2S3dXBY6c0",
        "colab_type": "text"
      },
      "cell_type": "markdown",
      "source": [
        "This way you'll get a list of all the parameters you may want or need to use. You can also use tab completion as soon as you type, `gd_sketch.e<TAB>` will give you all options that start with an `e`, etc.\n",
        "\n",
        "You can also type `gd_sketch.explore(<TAB>)` and get a pop-up with a list of what parameters this function provides.\n",
        "\n",
        "But for now, let's look at what views are available to use here:"
      ]
    },
    {
      "metadata": {
        "id": "AYgCmg_yZOO7",
        "colab_type": "code",
        "colab": {}
      },
      "cell_type": "code",
      "source": [
        "views = gd_sketch.list_views()\n",
        "\n",
        "for index, view in enumerate(views):\n",
        "  print '[{0:d}] {1:s}'.format(index, view.name)"
      ],
      "execution_count": 0,
      "outputs": []
    },
    {
      "metadata": {
        "id": "Tt5SWKzgZZe5",
        "colab_type": "text"
      },
      "cell_type": "markdown",
      "source": [
        "You can then start to query the API to get back results from these views. Let's try one of them...\n",
        "\n",
        "Word of caution, try to limit your search so that you don't get too many results back. The API will happily let you get all the results back as you choose, but the more records you get back the longer the API call will take (10k events per API call). "
      ]
    },
    {
      "metadata": {
        "id": "yY8jk_UzSpCE",
        "colab_type": "code",
        "colab": {}
      },
      "cell_type": "code",
      "source": [
        "# You can change this number if you would like to test out another view.\n",
        "view_number = 1\n",
        "\n",
        "\n",
        "print 'Fetching data from : {0:s}'.format(views[view_number].name)\n",
        "print '        Query used : {0:s}'.format(views[view_number].query_string if views[view_number].query_string else views[view_number].query_dsl)\n"
      ],
      "execution_count": 0,
      "outputs": []
    },
    {
      "metadata": {
        "id": "zLgLBXXMlDKa",
        "colab_type": "text"
      },
      "cell_type": "markdown",
      "source": [
        "If you want to issue this query, then you can run the cell below, otherwise you can change the view_number to try another one."
      ]
    },
    {
      "metadata": {
        "id": "MmlF6oYcj8wh",
        "colab_type": "code",
        "colab": {}
      },
      "cell_type": "code",
      "source": [
        "greendale_frame = gd_sketch.explore(view=views[1], as_pandas=True)"
      ],
      "execution_count": 0,
      "outputs": []
    },
    {
      "metadata": {
        "id": "jEki5_BmZpKu",
        "colab_type": "text"
      },
      "cell_type": "markdown",
      "source": [
        "Did you notice the \"`as_pandas=True`\" parameter that got passed to the \"`explore`\" function? That means that the data that we'll get back is a pandas DataFrame that we can now start exploring. \n",
        "\n",
        "Let's start with seeing how many entries we got back."
      ]
    },
    {
      "metadata": {
        "id": "1_fjRL4XZ-XW",
        "colab_type": "code",
        "colab": {}
      },
      "cell_type": "code",
      "source": [
        "greendale_frame.shape"
      ],
      "execution_count": 0,
      "outputs": []
    },
    {
      "metadata": {
        "id": "XWjrJnivaSo9",
        "colab_type": "text"
      },
      "cell_type": "markdown",
      "source": [
        "This tells us that the view returned back 3.038 events with 9 columns. Let's explore the first few entries, just so that we can wrap our head around what we got back."
      ]
    },
    {
      "metadata": {
        "id": "ymR_NtseaRrO",
        "colab_type": "code",
        "colab": {}
      },
      "cell_type": "code",
      "source": [
        "greendale_frame.head(5)"
      ],
      "execution_count": 0,
      "outputs": []
    },
    {
      "metadata": {
        "id": "bdPUgvNtl82r",
        "colab_type": "text"
      },
      "cell_type": "markdown",
      "source": [
        "Let's look at what columns we got back... and maybe create a slice that contains fewer columns."
      ]
    },
    {
      "metadata": {
        "id": "zuu7VFCAmB9e",
        "colab_type": "code",
        "colab": {}
      },
      "cell_type": "code",
      "source": [
        "greendale_frame.columns"
      ],
      "execution_count": 0,
      "outputs": []
    },
    {
      "metadata": {
        "id": "Dqv6gXlKmEUW",
        "colab_type": "code",
        "colab": {}
      },
      "cell_type": "code",
      "source": [
        "greendale_frame['datetime'] = pd.to_datetime(greendale_frame['datetime'])\n",
        "\n",
        "greendale_slice = greendale_frame[['datetime', 'timestamp_desc', 'tag', 'message', 'label']]\n",
        "\n",
        "greendale_slice.head(4)"
      ],
      "execution_count": 0,
      "outputs": []
    },
    {
      "metadata": {
        "id": "YydMkgThab09",
        "colab_type": "text"
      },
      "cell_type": "markdown",
      "source": [
        "We can now start to manipulate these events a bit and start graphing.\n",
        "\n",
        "Since we don't yet have the analyzers, let's extract some values..."
      ]
    },
    {
      "metadata": {
        "id": "cg1xPWKXa9QY",
        "colab_type": "code",
        "colab": {}
      },
      "cell_type": "code",
      "source": [
        "greendale_frame['account_name'] = greendale_frame.message.str.extract(r'Account Name:.+Account Name:\\\\t\\\\t([^\\\\]+)\\\\n', expand=False)\n",
        "greendale_frame['account_domain'] = greendale_frame.message.str.extract(r'Account Domain:.+Account Domain:\\\\t\\\\t([^\\\\]+)\\\\n', expand=False)\n",
        "greendale_frame['process_name'] = greendale_frame.message.str.extract(r'Process Name:.+Process Name:\\\\t\\\\t([^\\\\]+)\\\\n', expand=False)\n",
        "greendale_frame['date'] = pd.to_datetime(greendale_frame.timestamp/1e6, unit='s')"
      ],
      "execution_count": 0,
      "outputs": []
    },
    {
      "metadata": {
        "id": "5ApoSLqLfXbX",
        "colab_type": "text"
      },
      "cell_type": "markdown",
      "source": [
        "What accounts have logged in:"
      ]
    },
    {
      "metadata": {
        "id": "tKF9UR3mbSC-",
        "colab_type": "code",
        "colab": {}
      },
      "cell_type": "code",
      "source": [
        "greendale_frame.account_name.value_counts()"
      ],
      "execution_count": 0,
      "outputs": []
    },
    {
      "metadata": {
        "id": "8IApcGWwfaMS",
        "colab_type": "text"
      },
      "cell_type": "markdown",
      "source": [
        "Let's graph.... and you can then interact with the graph... try zomming in, etc."
      ]
    },
    {
      "metadata": {
        "id": "HwU4K4MnaYdt",
        "colab_type": "code",
        "colab": {}
      },
      "cell_type": "code",
      "source": [
        "alt.Chart(greendale_frame, height=200).mark_point().encode(\n",
        "  x='date', y='account_name'\n",
        ").properties(\n",
        "  title='Accounts Logged In'\n",
        ").interactive()"
      ],
      "execution_count": 0,
      "outputs": []
    },
    {
      "metadata": {
        "id": "drEG2TTSncoS",
        "colab_type": "text"
      },
      "cell_type": "markdown",
      "source": [
        "Or we can do this as a bar graph..."
      ]
    },
    {
      "metadata": {
        "id": "D9DiG03hazwY",
        "colab_type": "code",
        "colab": {}
      },
      "cell_type": "code",
      "source": [
        "alt.Chart(greendale_frame, width=400).mark_bar().encode(\n",
        "  x='account_name', y='count()',\n",
        "  tooltip=['account_name', 'count()']\n",
        ").properties(\n",
        "  title='Accounts Logged In'\n",
        ").interactive()"
      ],
      "execution_count": 0,
      "outputs": []
    },
    {
      "metadata": {
        "id": "W-1TEts7nfNx",
        "colab_type": "code",
        "colab": {}
      },
      "cell_type": "code",
      "source": [
        ""
      ],
      "execution_count": 0,
      "outputs": []
    }
  ]
}