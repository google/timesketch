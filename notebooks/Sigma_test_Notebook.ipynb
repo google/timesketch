{
 "metadata": {
  "language_info": {
   "codemirror_mode": {
    "name": "ipython",
    "version": 3
   },
   "file_extension": ".py",
   "mimetype": "text/x-python",
   "name": "python",
   "nbconvert_exporter": "python",
   "pygments_lexer": "ipython3",
   "version": "3.8.5-final"
  },
  "orig_nbformat": 2,
  "kernelspec": {
   "name": "python3",
   "display_name": "Python 3.8.5 64-bit ('.venv')",
   "metadata": {
    "interpreter": {
     "hash": "74f679a4fc854d75b381693882d369b7543a476b4b9cfda76eebb965e9131c3c"
    }
   }
  }
 },
 "nbformat": 4,
 "nbformat_minor": 2,
 "cells": [
  {
   "cell_type": "code",
   "execution_count": null,
   "metadata": {},
   "outputs": [],
   "source": [
    "!pip install -q timesketch_api_client"
   ]
  },
  {
   "cell_type": "code",
   "execution_count": null,
   "metadata": {},
   "outputs": [],
   "source": [
    "from timesketch_api_client import search\n",
    "from picatrix.lib import state as state_lib\n",
    "\n",
    "import altair as alt\n",
    "import numpy as np\n",
    "import pandas as pd\n",
    "from timesketch_api_client import config\n",
    "from timesketch_import_client import helper\n",
    "from timesketch_import_client import importer\n",
    "\n"
   ]
  },
  {
   "source": [
    "# Create the sketfch and import some data"
   ],
   "cell_type": "markdown",
   "metadata": {}
  },
  {
   "cell_type": "code",
   "execution_count": null,
   "metadata": {},
   "outputs": [],
   "source": [
    "ts_client = config.get_client(confirm_choices=True)"
   ]
  },
  {
   "cell_type": "code",
   "execution_count": null,
   "metadata": {},
   "outputs": [],
   "source": [
    "ts_client.create_sketch(name=\"test\")"
   ]
  },
  {
   "cell_type": "code",
   "execution_count": null,
   "metadata": {},
   "outputs": [],
   "source": [
    "sketch = ts_client.get_sketch(1)"
   ]
  },
  {
   "cell_type": "code",
   "execution_count": null,
   "metadata": {},
   "outputs": [],
   "source": [
    "import_helper = helper.ImportHelper() \n",
    "\n",
    "with importer.ImportStreamer() as streamer:\n",
    "  streamer.set_sketch(sketch)\n",
    "  streamer.set_config_helper(import_helper) \n",
    "\n",
    "  streamer.set_timeline_name('sigma_events.jsonl')\n",
    "\n",
    "  streamer.add_file('../test_tools/test_events/sigma_events.jsonl')"
   ]
  },
  {
   "source": [
    "# Multiple Rules\n"
   ],
   "cell_type": "markdown",
   "metadata": {}
  },
  {
   "cell_type": "code",
   "execution_count": null,
   "metadata": {},
   "outputs": [],
   "source": [
    "rules = ts_client.list_sigma_rules()"
   ]
  },
  {
   "cell_type": "code",
   "execution_count": null,
   "metadata": {},
   "outputs": [],
   "source": [
    "for rule in rules:\n",
    "    rule.__dict__"
   ]
  },
  {
   "cell_type": "code",
   "execution_count": null,
   "metadata": {},
   "outputs": [],
   "source": [
    "# Single Rule tests\n",
    "single_rule = ts_client.get_sigma_rule(rule_uuid='5266a592-b793-11ea-b3de-0242ac130004')"
   ]
  },
  {
   "cell_type": "code",
   "execution_count": null,
   "metadata": {},
   "outputs": [],
   "source": [
    "single_rule.__dict__"
   ]
  },
  {
   "cell_type": "code",
   "execution_count": null,
   "metadata": {},
   "outputs": [],
   "source": [
    "single_rule.rule_uuid"
   ]
  },
  {
   "cell_type": "code",
   "execution_count": null,
   "metadata": {},
   "outputs": [],
   "source": [
    "single_rule.es_query"
   ]
  },
  {
   "source": [
    "# Text Sigma examples"
   ],
   "cell_type": "markdown",
   "metadata": {}
  },
  {
   "cell_type": "code",
   "execution_count": null,
   "metadata": {},
   "outputs": [],
   "source": [
    "MOCK_SIGMA_RULE = \"\"\"\n",
    "title: Suspicious Installation of Zenmap\n",
    "id: 5266a592-b793-11ea-b3de-0242ac130004\n",
    "description: Detects suspicious installation of Zenmap\n",
    "references:\n",
    "    - https://rmusser.net/docs/ATT&CK-Stuff/ATT&CK/Discovery.html\n",
    "author: Alexander Jaeger\n",
    "date: 2020/06/26\n",
    "modified: 2021/01/01\n",
    "logsource:\n",
    "    product: linux\n",
    "    service: shell\n",
    "detection:\n",
    "    keywords:\n",
    "        # Generic suspicious commands\n",
    "        - '*apt-get install zmap*'\n",
    "    condition: keywords\n",
    "falsepositives:\n",
    "    - Unknown\n",
    "level: high\n",
    "\"\"\""
   ]
  },
  {
   "source": [
    "Here the current api client is missing and needs to be installed"
   ],
   "cell_type": "markdown",
   "metadata": {}
  }
 ]
}