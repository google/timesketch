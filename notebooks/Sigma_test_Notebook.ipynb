{
 "metadata": {
  "language_info": {
   "codemirror_mode": {
    "name": "ipython",
    "version": 3
   },
   "file_extension": ".py",
   "mimetype": "text/x-python",
   "name": "python",
   "nbconvert_exporter": "python",
   "pygments_lexer": "ipython3",
   "version": "3.9.2-final"
  },
  "orig_nbformat": 2,
  "kernelspec": {
   "name": "python392jvsc74a57bd02556566ac8fd219b8b3cb0c76c8e4f226085ddd0e18628d37e0282e6a68fc0ff",
   "display_name": "Python 3.9.2 64-bit ('.venv')"
  },
  "metadata": {
   "interpreter": {
    "hash": "2556566ac8fd219b8b3cb0c76c8e4f226085ddd0e18628d37e0282e6a68fc0ff"
   }
  }
 },
 "nbformat": 4,
 "nbformat_minor": 2,
 "cells": [
  {
   "source": [
    "# Sigma example notebook\n",
    "\n",
    "This notebook should showcase some use cases with regards to Sigma."
   ],
   "cell_type": "markdown",
   "metadata": {}
  },
  {
   "cell_type": "code",
   "execution_count": 1,
   "metadata": {},
   "outputs": [],
   "source": [
    "!pip install -q timesketch_api_client"
   ]
  },
  {
   "cell_type": "code",
   "execution_count": 8,
   "metadata": {},
   "outputs": [],
   "source": [
    "from timesketch_api_client import search\n",
    "from picatrix.lib import state as state_lib\n",
    "\n",
    "import altair as alt\n",
    "import numpy as np\n",
    "import pandas as pd\n",
    "from timesketch_api_client import config\n",
    "from timesketch_import_client import helper\n",
    "from timesketch_import_client import importer\n",
    "from timesketch_api_client import search"
   ]
  },
  {
   "source": [
    "# Create the sketch and import some data\n",
    "\n",
    "First we want to create a sketch and import a small data set. It is recommended to do that with the dev docker container."
   ],
   "cell_type": "markdown",
   "metadata": {}
  },
  {
   "cell_type": "code",
   "execution_count": null,
   "metadata": {},
   "outputs": [],
   "source": [
    "ts_client = config.get_client()"
   ]
  },
  {
   "cell_type": "code",
   "execution_count": null,
   "metadata": {},
   "outputs": [],
   "source": [
    "# We create a new sketch\n",
    "sketch = ts_client.create_sketch(name=\"test\")"
   ]
  },
  {
   "cell_type": "code",
   "execution_count": 3,
   "metadata": {},
   "outputs": [],
   "source": [
    "# Download a file to import\n",
    "import requests\n",
    "import io\n",
    "\n",
    "url = \"https://raw.githubusercontent.com/google/timesketch/master/test_tools/test_events/sigma_events.csv\" \n",
    "download = requests.get(url).content"
   ]
  },
  {
   "cell_type": "code",
   "execution_count": 10,
   "metadata": {},
   "outputs": [
    {
     "output_type": "execute_result",
     "data": {
      "text/plain": [
       "                                             message  timestamp  \\\n",
       "0                                          A message  123456789   \n",
       "1                                    Another message  123456790   \n",
       "2                                  Yet more messages  123456791   \n",
       "3  Install: zmap:amd64 (1.1.0-1) [Commandline: ap...  123456791   \n",
       "\n",
       "                    datetime timestamp_desc extra_field_1  \\\n",
       "0  2015-07-24T19:01:01+00:00     Write time           foo   \n",
       "1  2015-07-24T19:01:02+00:00     Write time           bar   \n",
       "2  2015-07-24T19:01:03+00:00     Write time           baz   \n",
       "3  2015-07-24T19:01:03+00:00            foo           NaN   \n",
       "\n",
       "                             command         data_type  \\\n",
       "0                                NaN               NaN   \n",
       "1                                NaN               NaN   \n",
       "2                                NaN               NaN   \n",
       "3  Commandline: apt-get install zmap  apt:history:line   \n",
       "\n",
       "                         display_name                       filename  \\\n",
       "0                                 NaN                            NaN   \n",
       "1                                 NaN                            NaN   \n",
       "2                                 NaN                            NaN   \n",
       "3  GZIP:/var/log/apt/history.log.1.gz  /var/log/apt/history.log.1.gz   \n",
       "\n",
       "                        packages       parser  \n",
       "0                            NaN          NaN  \n",
       "1                            NaN          NaN  \n",
       "2                            NaN          NaN  \n",
       "3  Install: zmap:amd64 (1.1.0-1)  apt_history  "
      ],
      "text/html": "<div>\n<style scoped>\n    .dataframe tbody tr th:only-of-type {\n        vertical-align: middle;\n    }\n\n    .dataframe tbody tr th {\n        vertical-align: top;\n    }\n\n    .dataframe thead th {\n        text-align: right;\n    }\n</style>\n<table border=\"1\" class=\"dataframe\">\n  <thead>\n    <tr style=\"text-align: right;\">\n      <th></th>\n      <th>message</th>\n      <th>timestamp</th>\n      <th>datetime</th>\n      <th>timestamp_desc</th>\n      <th>extra_field_1</th>\n      <th>command</th>\n      <th>data_type</th>\n      <th>display_name</th>\n      <th>filename</th>\n      <th>packages</th>\n      <th>parser</th>\n    </tr>\n  </thead>\n  <tbody>\n    <tr>\n      <th>0</th>\n      <td>A message</td>\n      <td>123456789</td>\n      <td>2015-07-24T19:01:01+00:00</td>\n      <td>Write time</td>\n      <td>foo</td>\n      <td>NaN</td>\n      <td>NaN</td>\n      <td>NaN</td>\n      <td>NaN</td>\n      <td>NaN</td>\n      <td>NaN</td>\n    </tr>\n    <tr>\n      <th>1</th>\n      <td>Another message</td>\n      <td>123456790</td>\n      <td>2015-07-24T19:01:02+00:00</td>\n      <td>Write time</td>\n      <td>bar</td>\n      <td>NaN</td>\n      <td>NaN</td>\n      <td>NaN</td>\n      <td>NaN</td>\n      <td>NaN</td>\n      <td>NaN</td>\n    </tr>\n    <tr>\n      <th>2</th>\n      <td>Yet more messages</td>\n      <td>123456791</td>\n      <td>2015-07-24T19:01:03+00:00</td>\n      <td>Write time</td>\n      <td>baz</td>\n      <td>NaN</td>\n      <td>NaN</td>\n      <td>NaN</td>\n      <td>NaN</td>\n      <td>NaN</td>\n      <td>NaN</td>\n    </tr>\n    <tr>\n      <th>3</th>\n      <td>Install: zmap:amd64 (1.1.0-1) [Commandline: ap...</td>\n      <td>123456791</td>\n      <td>2015-07-24T19:01:03+00:00</td>\n      <td>foo</td>\n      <td>NaN</td>\n      <td>Commandline: apt-get install zmap</td>\n      <td>apt:history:line</td>\n      <td>GZIP:/var/log/apt/history.log.1.gz</td>\n      <td>/var/log/apt/history.log.1.gz</td>\n      <td>Install: zmap:amd64 (1.1.0-1)</td>\n      <td>apt_history</td>\n    </tr>\n  </tbody>\n</table>\n</div>"
     },
     "metadata": {},
     "execution_count": 10
    }
   ],
   "source": [
    "# Now we convert the CSV to a pandas dataframe\n",
    "df = pd.read_csv(io.StringIO(download.decode('utf-8')))\n",
    "df"
   ]
  },
  {
   "source": [
    "## Import the data to timesketch\n",
    "\n",
    "The easiest way to do that is using the import client as shown below."
   ],
   "cell_type": "markdown",
   "metadata": {}
  },
  {
   "cell_type": "code",
   "execution_count": null,
   "metadata": {},
   "outputs": [],
   "source": [
    "import_helper = helper.ImportHelper() \n",
    "\n",
    "with importer.ImportStreamer() as streamer:\n",
    "  streamer.set_sketch(sketch)\n",
    "  streamer.set_config_helper(import_helper) \n",
    "\n",
    "  streamer.set_timeline_name('sigma_events.csv')\n",
    "  streamer.add_data_frame(df)\n"
   ]
  },
  {
   "source": [
    "# Fetch Rules\n",
    "\n",
    "Now we want to fetch all the rules installed on the Timesketch instance. For the dev docker container we only expect one rule.\n"
   ],
   "cell_type": "markdown",
   "metadata": {}
  },
  {
   "cell_type": "code",
   "execution_count": null,
   "metadata": {},
   "outputs": [],
   "source": [
    "rules = ts_client.list_sigma_rules()"
   ]
  },
  {
   "cell_type": "code",
   "execution_count": null,
   "metadata": {},
   "outputs": [],
   "source": [
    "for rule in rules:\n",
    "    rule.id"
   ]
  },
  {
   "cell_type": "code",
   "execution_count": null,
   "metadata": {},
   "outputs": [],
   "source": [
    "rule1 = rules[0]"
   ]
  },
  {
   "cell_type": "code",
   "execution_count": null,
   "metadata": {},
   "outputs": [],
   "source": [
    "rule1.id"
   ]
  },
  {
   "cell_type": "code",
   "execution_count": null,
   "metadata": {},
   "outputs": [],
   "source": [
    "# The API also gives us the elastic search query we could use to explore the data.\n",
    "rule1.es_query"
   ]
  },
  {
   "source": [
    "# Single rule\n",
    "\n",
    "Next we want to fetch a single rule by a given uuid."
   ],
   "cell_type": "markdown",
   "metadata": {}
  },
  {
   "cell_type": "code",
   "execution_count": null,
   "metadata": {},
   "outputs": [],
   "source": [
    "# Single Rule tests\n",
    "single_rule = ts_client.get_sigma_rule(rule_uuid='5266a592-b793-11ea-b3de-0242ac130004')"
   ]
  },
  {
   "cell_type": "code",
   "execution_count": null,
   "metadata": {},
   "outputs": [],
   "source": [
    "single_rule.id"
   ]
  },
  {
   "cell_type": "code",
   "execution_count": null,
   "metadata": {},
   "outputs": [],
   "source": [
    "single_rule.rule_uuid"
   ]
  },
  {
   "cell_type": "code",
   "execution_count": null,
   "metadata": {},
   "outputs": [],
   "source": [
    "single_rule.es_query"
   ]
  },
  {
   "source": [
    "# Text Sigma examples\n",
    "\n",
    "The API also provides the option to provide a Sigma rule by text and the backend will parse it with the installed Sigma mappings. This can be especially helpful when developing new rules before installing and exposing them to all the other user of a Timesketch instance."
   ],
   "cell_type": "markdown",
   "metadata": {}
  },
  {
   "cell_type": "code",
   "execution_count": null,
   "metadata": {},
   "outputs": [],
   "source": [
    "MOCK_SIGMA_RULE = \"\"\"\n",
    "title: Suspicious Installation of Zenmap\n",
    "id: 5266a592-b793-11ea-b3de-0242ac130004\n",
    "description: Detects suspicious installation of Zenmap\n",
    "references:\n",
    "    - https://rmusser.net/docs/ATT&CK-Stuff/ATT&CK/Discovery.html\n",
    "author: Alexander Jaeger\n",
    "date: 2020/06/26\n",
    "modified: 2021/01/01\n",
    "logsource:\n",
    "    product: linux\n",
    "    service: shell\n",
    "detection:\n",
    "    keywords:\n",
    "        # Generic suspicious commands\n",
    "        - '*apt-get install zmap*'\n",
    "    condition: keywords\n",
    "falsepositives:\n",
    "    - Unknown\n",
    "level: high\n",
    "\"\"\""
   ]
  },
  {
   "cell_type": "code",
   "execution_count": null,
   "metadata": {},
   "outputs": [],
   "source": [
    "rule_by_text = ts_client.get_sigma_rule_by_text(MOCK_SIGMA_RULE)"
   ]
  },
  {
   "cell_type": "code",
   "execution_count": null,
   "metadata": {},
   "outputs": [],
   "source": [
    "rule_by_text.es_query"
   ]
  },
  {
   "cell_type": "code",
   "execution_count": null,
   "metadata": {},
   "outputs": [],
   "source": [
    "rule_by_text.references"
   ]
  },
  {
   "source": [
    "# Analyzer\n",
    "\n",
    "Timesketch also has a Sigma analyzer that will add labels to all matching events. To do so you need a Timeline object to run the analyzer. The Analyzer then will take all rules installed on the Timesketch instance and go over the Timeline."
   ],
   "cell_type": "markdown",
   "metadata": {}
  },
  {
   "cell_type": "code",
   "execution_count": null,
   "metadata": {},
   "outputs": [],
   "source": [
    "timelines = sketch.list_timelines()\n",
    "timeline = None\n",
    "for timeline_ in timelines:\n",
    "  if timeline_.name == 'sigma_events.csv':\n",
    "    timeline = timeline_\n",
    "    break"
   ]
  },
  {
   "cell_type": "code",
   "execution_count": null,
   "metadata": {},
   "outputs": [],
   "source": [
    "result = timeline.run_analyzer(analyzer_name='sigma', ignore_previous=True)\n"
   ]
  },
  {
   "cell_type": "code",
   "execution_count": null,
   "metadata": {},
   "outputs": [],
   "source": [
    "sketch.get_analyzer_status()\n",
    "\"\"\"This should show something like:\n",
    "\n",
    "[{'index': <timesketch_api_client.index.SearchIndex at 0x126a09820>,\n",
    "  'timeline_id': 1,\n",
    "  'session_id': 1,\n",
    "  'analyzer': 'sigma',\n",
    "  'results': 'Applied 1 tags\\n* lnx_susp_zenmap.yml: 1\\nProblematic rules:',\n",
    "  'status': 'DONE'}]\n",
    "  \"\"\""
   ]
  }
 ]
}