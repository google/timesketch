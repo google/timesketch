{
 "metadata": {
  "language_info": {
   "codemirror_mode": {
    "name": "ipython",
    "version": 3
   },
   "file_extension": ".py",
   "mimetype": "text/x-python",
   "name": "python",
   "nbconvert_exporter": "python",
   "pygments_lexer": "ipython3",
   "version": "3.8.5-final"
  },
  "orig_nbformat": 2,
  "kernelspec": {
   "name": "python3",
   "display_name": "Python 3.8.5 64-bit ('.venv')",
   "metadata": {
    "interpreter": {
     "hash": "74f679a4fc854d75b381693882d369b7543a476b4b9cfda76eebb965e9131c3c"
    }
   }
  }
 },
 "nbformat": 4,
 "nbformat_minor": 2,
 "cells": [
  {
   "cell_type": "code",
   "execution_count": null,
   "metadata": {},
   "outputs": [],
   "source": [
    "#!pip install -q timesketch_api_client"
   ]
  },
  {
   "cell_type": "code",
   "execution_count": null,
   "metadata": {},
   "outputs": [],
   "source": [
    "pip install ../api_client/python"
   ]
  },
  {
   "cell_type": "code",
   "execution_count": null,
   "metadata": {},
   "outputs": [],
   "source": [
    "from timesketch_api_client import search\n",
    "from picatrix.lib import state as state_lib\n",
    "\n",
    "import altair as alt\n",
    "import numpy as np\n",
    "import pandas as pd\n",
    "from timesketch_api_client import config\n",
    "from timesketch_import_client import helper\n",
    "from timesketch_import_client import importer\n",
    "from timesketch_api_client import search\n",
    "\n",
    "\n"
   ]
  },
  {
   "source": [
    "# Create the sketch and import some data"
   ],
   "cell_type": "markdown",
   "metadata": {}
  },
  {
   "cell_type": "code",
   "execution_count": null,
   "metadata": {},
   "outputs": [],
   "source": [
    "ts_client = config.get_client(confirm_choices=False)"
   ]
  },
  {
   "cell_type": "code",
   "execution_count": null,
   "metadata": {},
   "outputs": [],
   "source": [
    "ts_client.create_sketch(name=\"test\")"
   ]
  },
  {
   "cell_type": "code",
   "execution_count": null,
   "metadata": {},
   "outputs": [],
   "source": [
    "sketch = ts_client.get_sketch(1)"
   ]
  },
  {
   "cell_type": "code",
   "execution_count": null,
   "metadata": {},
   "outputs": [],
   "source": [
    "import_helper = helper.ImportHelper() \n",
    "\n",
    "with importer.ImportStreamer() as streamer:\n",
    "  streamer.set_sketch(sketch)\n",
    "  streamer.set_config_helper(import_helper) \n",
    "\n",
    "  streamer.set_timeline_name('sigma_events.jsonl')\n",
    "\n",
    "  streamer.add_file('../test_tools/test_events/sigma_events.jsonl')"
   ]
  },
  {
   "source": [
    "# Multiple Rules\n"
   ],
   "cell_type": "markdown",
   "metadata": {}
  },
  {
   "cell_type": "code",
   "execution_count": null,
   "metadata": {},
   "outputs": [],
   "source": [
    "rules = ts_client.list_sigma_rules()"
   ]
  },
  {
   "cell_type": "code",
   "execution_count": null,
   "metadata": {},
   "outputs": [],
   "source": [
    "for rule in rules:\n",
    "    rule.__dict__"
   ]
  },
  {
   "cell_type": "code",
   "execution_count": null,
   "metadata": {},
   "outputs": [],
   "source": [
    "rule1 = rules[0]"
   ]
  },
  {
   "cell_type": "code",
   "execution_count": null,
   "metadata": {},
   "outputs": [],
   "source": [
    "rule1.id"
   ]
  },
  {
   "cell_type": "code",
   "execution_count": null,
   "metadata": {},
   "outputs": [],
   "source": [
    "rule1.es_query"
   ]
  },
  {
   "source": [
    "# Single rule"
   ],
   "cell_type": "markdown",
   "metadata": {}
  },
  {
   "cell_type": "code",
   "execution_count": null,
   "metadata": {},
   "outputs": [],
   "source": [
    "# Single Rule tests\n",
    "single_rule = ts_client.get_sigma_rule(rule_uuid='5266a592-b793-11ea-b3de-0242ac130004')"
   ]
  },
  {
   "cell_type": "code",
   "execution_count": null,
   "metadata": {},
   "outputs": [],
   "source": [
    "single_rule.__dict__"
   ]
  },
  {
   "cell_type": "code",
   "execution_count": null,
   "metadata": {},
   "outputs": [],
   "source": [
    "single_rule.id"
   ]
  },
  {
   "cell_type": "code",
   "execution_count": null,
   "metadata": {},
   "outputs": [],
   "source": [
    "single_rule.rule_uuid\n"
   ]
  },
  {
   "cell_type": "code",
   "execution_count": null,
   "metadata": {},
   "outputs": [],
   "source": [
    "single_rule.es_query"
   ]
  },
  {
   "source": [
    "# Text Sigma examples"
   ],
   "cell_type": "markdown",
   "metadata": {}
  },
  {
   "cell_type": "code",
   "execution_count": null,
   "metadata": {},
   "outputs": [],
   "source": [
    "MOCK_SIGMA_RULE = \"\"\"\n",
    "title: Suspicious Installation of Zenmap\n",
    "id: 5266a592-b793-11ea-b3de-0242ac130004\n",
    "description: Detects suspicious installation of Zenmap\n",
    "references:\n",
    "    - https://rmusser.net/docs/ATT&CK-Stuff/ATT&CK/Discovery.html\n",
    "author: Alexander Jaeger\n",
    "date: 2020/06/26\n",
    "modified: 2021/01/01\n",
    "logsource:\n",
    "    product: linux\n",
    "    service: shell\n",
    "detection:\n",
    "    keywords:\n",
    "        # Generic suspicious commands\n",
    "        - '*apt-get install zmap*'\n",
    "    condition: keywords\n",
    "falsepositives:\n",
    "    - Unknown\n",
    "level: high\n",
    "\"\"\""
   ]
  },
  {
   "cell_type": "code",
   "execution_count": null,
   "metadata": {},
   "outputs": [],
   "source": [
    "rule_by_text = ts_client.get_sigma_rule_by_text(MOCK_SIGMA_RULE)"
   ]
  },
  {
   "cell_type": "code",
   "execution_count": null,
   "metadata": {},
   "outputs": [],
   "source": [
    "rule_by_text.es_query"
   ]
  },
  {
   "cell_type": "code",
   "execution_count": null,
   "metadata": {},
   "outputs": [],
   "source": [
    "rule_by_text.references"
   ]
  },
  {
   "source": [
    "# Analyzer"
   ],
   "cell_type": "markdown",
   "metadata": {}
  },
  {
   "cell_type": "code",
   "execution_count": null,
   "metadata": {},
   "outputs": [],
   "source": [
    "timelines = sketch.list_timelines()\n"
   ]
  },
  {
   "cell_type": "code",
   "execution_count": null,
   "metadata": {},
   "outputs": [],
   "source": [
    "timelines[0].name #sigma_events.jsonl"
   ]
  },
  {
   "cell_type": "code",
   "execution_count": null,
   "metadata": {},
   "outputs": [],
   "source": [
    "result = sketch.run_analyzer(timeline_name='sigma_events.jsonl', analyzer_name='sigma', ignore_previous=True)"
   ]
  },
  {
   "cell_type": "code",
   "execution_count": null,
   "metadata": {},
   "outputs": [],
   "source": [
    "sketch.get_analyzer_status()\n",
    "\"\"\"This should show something like:\n",
    "\n",
    "[{'index': <timesketch_api_client.index.SearchIndex at 0x126a09820>,\n",
    "  'timeline_id': 1,\n",
    "  'session_id': 1,\n",
    "  'analyzer': 'sigma',\n",
    "  'results': 'Applied 1 tags\\n* lnx_susp_zenmap.yml: 1\\nProblematic rules:',\n",
    "  'status': 'DONE'}]\n",
    "  \"\"\""
   ]
  }
 ]
}